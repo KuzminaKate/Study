{
 "cells": [
  {
   "cell_type": "code",
   "execution_count": 1,
   "metadata": {},
   "outputs": [],
   "source": [
    "import pandas as pd\n",
    "import numpy as np"
   ]
  },
  {
   "cell_type": "code",
   "execution_count": 6,
   "metadata": {},
   "outputs": [
    {
     "name": "stdout",
     "output_type": "stream",
     "text": [
      "Requirement already satisfied: pandas in c:\\programdata\\anaconda3\\lib\\site-packages (1.1.3)\n",
      "Requirement already satisfied: numpy>=1.15.4 in c:\\programdata\\anaconda3\\lib\\site-packages (from pandas) (1.19.2)\n",
      "Requirement already satisfied: python-dateutil>=2.7.3 in c:\\programdata\\anaconda3\\lib\\site-packages (from pandas) (2.8.1)\n",
      "Requirement already satisfied: pytz>=2017.2 in c:\\programdata\\anaconda3\\lib\\site-packages (from pandas) (2020.1)\n",
      "Requirement already satisfied: six>=1.5 in c:\\programdata\\anaconda3\\lib\\site-packages (from python-dateutil>=2.7.3->pandas) (1.15.0)\n"
     ]
    }
   ],
   "source": [
    "! pip install pandas"
   ]
  },
  {
   "cell_type": "code",
   "execution_count": 7,
   "metadata": {},
   "outputs": [
    {
     "name": "stdout",
     "output_type": "stream",
     "text": [
      "Requirement already satisfied: pd in c:\\programdata\\anaconda3\\lib\\site-packages (0.0.4)\n"
     ]
    }
   ],
   "source": [
    "! pip install pd\n"
   ]
  },
  {
   "cell_type": "code",
   "execution_count": 9,
   "metadata": {},
   "outputs": [
    {
     "name": "stdout",
     "output_type": "stream",
     "text": [
      "Requirement already satisfied: numpy in c:\\programdata\\anaconda3\\lib\\site-packages (1.19.2)\n"
     ]
    }
   ],
   "source": [
    "! pip install numpy"
   ]
  },
  {
   "cell_type": "code",
   "execution_count": 11,
   "metadata": {},
   "outputs": [
    {
     "name": "stdout",
     "output_type": "stream",
     "text": [
      "Requirement already satisfied: np in c:\\programdata\\anaconda3\\lib\\site-packages (1.0.2)\n"
     ]
    }
   ],
   "source": [
    "! pip install np"
   ]
  },
  {
   "cell_type": "markdown",
   "metadata": {},
   "source": [
    "# ПОДГОТОВКА ДАННЫХ"
   ]
  },
  {
   "cell_type": "code",
   "execution_count": 2,
   "metadata": {},
   "outputs": [],
   "source": [
    "df = pd.read_csv('data/car_data.csv')"
   ]
  },
  {
   "cell_type": "code",
   "execution_count": 4,
   "metadata": {},
   "outputs": [
    {
     "data": {
      "text/html": [
       "<div>\n",
       "<style scoped>\n",
       "    .dataframe tbody tr th:only-of-type {\n",
       "        vertical-align: middle;\n",
       "    }\n",
       "\n",
       "    .dataframe tbody tr th {\n",
       "        vertical-align: top;\n",
       "    }\n",
       "\n",
       "    .dataframe thead th {\n",
       "        text-align: right;\n",
       "    }\n",
       "</style>\n",
       "<table border=\"1\" class=\"dataframe\">\n",
       "  <thead>\n",
       "    <tr style=\"text-align: right;\">\n",
       "      <th></th>\n",
       "      <th>0</th>\n",
       "      <th>1</th>\n",
       "      <th>2</th>\n",
       "    </tr>\n",
       "  </thead>\n",
       "  <tbody>\n",
       "    <tr>\n",
       "      <th>Model</th>\n",
       "      <td>MarutiWagonR1.0LXI</td>\n",
       "      <td>ToyotaEtiosLiva</td>\n",
       "      <td>MarutiAlto800</td>\n",
       "    </tr>\n",
       "    <tr>\n",
       "      <th>Selling Price</th>\n",
       "      <td>312165</td>\n",
       "      <td>313799</td>\n",
       "      <td>295999</td>\n",
       "    </tr>\n",
       "    <tr>\n",
       "      <th>Kilometers Driven</th>\n",
       "      <td>82238</td>\n",
       "      <td>30558</td>\n",
       "      <td>22164</td>\n",
       "    </tr>\n",
       "    <tr>\n",
       "      <th>Year</th>\n",
       "      <td>2014</td>\n",
       "      <td>2013</td>\n",
       "      <td>2018</td>\n",
       "    </tr>\n",
       "    <tr>\n",
       "      <th>Owner</th>\n",
       "      <td>First Owner</td>\n",
       "      <td>First Owner</td>\n",
       "      <td>First Owner</td>\n",
       "    </tr>\n",
       "    <tr>\n",
       "      <th>Fuel Type</th>\n",
       "      <td>Petrol + CNG</td>\n",
       "      <td>Petrol</td>\n",
       "      <td>Petrol</td>\n",
       "    </tr>\n",
       "    <tr>\n",
       "      <th>Transmission</th>\n",
       "      <td>MANUAL</td>\n",
       "      <td>MANUAL</td>\n",
       "      <td>MANUAL</td>\n",
       "    </tr>\n",
       "    <tr>\n",
       "      <th>Insurance</th>\n",
       "      <td>Expired</td>\n",
       "      <td>12-09-2021</td>\n",
       "      <td>01-12-2020</td>\n",
       "    </tr>\n",
       "    <tr>\n",
       "      <th>Car Condition</th>\n",
       "      <td>4.2</td>\n",
       "      <td>4.4</td>\n",
       "      <td>4.8</td>\n",
       "    </tr>\n",
       "  </tbody>\n",
       "</table>\n",
       "</div>"
      ],
      "text/plain": [
       "                                    0                1              2\n",
       "Model              MarutiWagonR1.0LXI  ToyotaEtiosLiva  MarutiAlto800\n",
       "Selling Price                  312165           313799         295999\n",
       "Kilometers Driven               82238            30558          22164\n",
       "Year                             2014             2013           2018\n",
       "Owner                     First Owner      First Owner    First Owner\n",
       "Fuel Type                Petrol + CNG           Petrol         Petrol\n",
       "Transmission                   MANUAL           MANUAL         MANUAL\n",
       "Insurance                     Expired       12-09-2021     01-12-2020\n",
       "Car Condition                     4.2              4.4            4.8"
      ]
     },
     "execution_count": 4,
     "metadata": {},
     "output_type": "execute_result"
    }
   ],
   "source": [
    "df.head(3).T"
   ]
  },
  {
   "cell_type": "code",
   "execution_count": 5,
   "metadata": {},
   "outputs": [
    {
     "data": {
      "text/plain": [
       "2237"
      ]
     },
     "execution_count": 5,
     "metadata": {},
     "output_type": "execute_result"
    }
   ],
   "source": [
    "len(df)"
   ]
  },
  {
   "cell_type": "code",
   "execution_count": 41,
   "metadata": {},
   "outputs": [],
   "source": [
    "# видим, что в наимнованиях колонок есть пробелы\n",
    "# надо сделать названия консистентными, чтобы было удобно обращаться"
   ]
  },
  {
   "cell_type": "code",
   "execution_count": 6,
   "metadata": {},
   "outputs": [
    {
     "data": {
      "text/plain": [
       "Index(['Model', 'Selling Price', 'Kilometers Driven', 'Year', 'Owner',\n",
       "       'Fuel Type', 'Transmission', 'Insurance', 'Car Condition'],\n",
       "      dtype='object')"
      ]
     },
     "execution_count": 6,
     "metadata": {},
     "output_type": "execute_result"
    }
   ],
   "source": [
    "df.columns"
   ]
  },
  {
   "cell_type": "code",
   "execution_count": 11,
   "metadata": {},
   "outputs": [
    {
     "data": {
      "text/plain": [
       "Index(['model', 'selling_price', 'kilometers_driven', 'year', 'owner',\n",
       "       'fuel_type', 'transmission', 'insurance', 'car_condition'],\n",
       "      dtype='object')"
      ]
     },
     "execution_count": 11,
     "metadata": {},
     "output_type": "execute_result"
    }
   ],
   "source": [
    "df.columns.str.replace(' ', '_').str.lower()"
   ]
  },
  {
   "cell_type": "code",
   "execution_count": 12,
   "metadata": {},
   "outputs": [],
   "source": [
    "df.columns = df.columns.str.replace(' ', '_').str.lower()"
   ]
  },
  {
   "cell_type": "code",
   "execution_count": 13,
   "metadata": {},
   "outputs": [
    {
     "data": {
      "text/plain": [
       "pandas.core.indexes.base.Index"
      ]
     },
     "execution_count": 13,
     "metadata": {},
     "output_type": "execute_result"
    }
   ],
   "source": [
    "type(df.columns)"
   ]
  },
  {
   "cell_type": "code",
   "execution_count": 14,
   "metadata": {},
   "outputs": [],
   "source": [
    "df.columns = df.columns.str.lower().str.replace(' ', '_')"
   ]
  },
  {
   "cell_type": "code",
   "execution_count": 16,
   "metadata": {},
   "outputs": [
    {
     "data": {
      "text/html": [
       "<div>\n",
       "<style scoped>\n",
       "    .dataframe tbody tr th:only-of-type {\n",
       "        vertical-align: middle;\n",
       "    }\n",
       "\n",
       "    .dataframe tbody tr th {\n",
       "        vertical-align: top;\n",
       "    }\n",
       "\n",
       "    .dataframe thead th {\n",
       "        text-align: right;\n",
       "    }\n",
       "</style>\n",
       "<table border=\"1\" class=\"dataframe\">\n",
       "  <thead>\n",
       "    <tr style=\"text-align: right;\">\n",
       "      <th></th>\n",
       "      <th>0</th>\n",
       "      <th>1</th>\n",
       "      <th>2</th>\n",
       "    </tr>\n",
       "  </thead>\n",
       "  <tbody>\n",
       "    <tr>\n",
       "      <th>model</th>\n",
       "      <td>MarutiWagonR1.0LXI</td>\n",
       "      <td>ToyotaEtiosLiva</td>\n",
       "      <td>MarutiAlto800</td>\n",
       "    </tr>\n",
       "    <tr>\n",
       "      <th>selling_price</th>\n",
       "      <td>312165</td>\n",
       "      <td>313799</td>\n",
       "      <td>295999</td>\n",
       "    </tr>\n",
       "    <tr>\n",
       "      <th>kilometers_driven</th>\n",
       "      <td>82238</td>\n",
       "      <td>30558</td>\n",
       "      <td>22164</td>\n",
       "    </tr>\n",
       "    <tr>\n",
       "      <th>year</th>\n",
       "      <td>2014</td>\n",
       "      <td>2013</td>\n",
       "      <td>2018</td>\n",
       "    </tr>\n",
       "    <tr>\n",
       "      <th>owner</th>\n",
       "      <td>First Owner</td>\n",
       "      <td>First Owner</td>\n",
       "      <td>First Owner</td>\n",
       "    </tr>\n",
       "    <tr>\n",
       "      <th>fuel_type</th>\n",
       "      <td>Petrol + CNG</td>\n",
       "      <td>Petrol</td>\n",
       "      <td>Petrol</td>\n",
       "    </tr>\n",
       "    <tr>\n",
       "      <th>transmission</th>\n",
       "      <td>MANUAL</td>\n",
       "      <td>MANUAL</td>\n",
       "      <td>MANUAL</td>\n",
       "    </tr>\n",
       "    <tr>\n",
       "      <th>insurance</th>\n",
       "      <td>Expired</td>\n",
       "      <td>12-09-2021</td>\n",
       "      <td>01-12-2020</td>\n",
       "    </tr>\n",
       "    <tr>\n",
       "      <th>car_condition</th>\n",
       "      <td>4.2</td>\n",
       "      <td>4.4</td>\n",
       "      <td>4.8</td>\n",
       "    </tr>\n",
       "  </tbody>\n",
       "</table>\n",
       "</div>"
      ],
      "text/plain": [
       "                                    0                1              2\n",
       "model              MarutiWagonR1.0LXI  ToyotaEtiosLiva  MarutiAlto800\n",
       "selling_price                  312165           313799         295999\n",
       "kilometers_driven               82238            30558          22164\n",
       "year                             2014             2013           2018\n",
       "owner                     First Owner      First Owner    First Owner\n",
       "fuel_type                Petrol + CNG           Petrol         Petrol\n",
       "transmission                   MANUAL           MANUAL         MANUAL\n",
       "insurance                     Expired       12-09-2021     01-12-2020\n",
       "car_condition                     4.2              4.4            4.8"
      ]
     },
     "execution_count": 16,
     "metadata": {},
     "output_type": "execute_result"
    }
   ],
   "source": [
    "df.head(3).T"
   ]
  },
  {
   "cell_type": "code",
   "execution_count": 48,
   "metadata": {},
   "outputs": [
    {
     "data": {
      "text/plain": [
       "0       2014\n",
       "1       2013\n",
       "2       2018\n",
       "3       2013\n",
       "4       2013\n",
       "        ... \n",
       "2232    2015\n",
       "2233    2012\n",
       "2234    2011\n",
       "2235    2013\n",
       "2236    2015\n",
       "Name: year, Length: 2237, dtype: int64"
      ]
     },
     "execution_count": 48,
     "metadata": {},
     "output_type": "execute_result"
    }
   ],
   "source": [
    "df.year"
   ]
  },
  {
   "cell_type": "code",
   "execution_count": 49,
   "metadata": {},
   "outputs": [],
   "source": [
    "# есть такая проблема с данными, где-то заглавные буквы, где-то нет"
   ]
  },
  {
   "cell_type": "code",
   "execution_count": 50,
   "metadata": {},
   "outputs": [
    {
     "data": {
      "text/plain": [
       "model                 object\n",
       "selling_price          int64\n",
       "kilometers_driven      int64\n",
       "year                   int64\n",
       "owner                 object\n",
       "fuel_type             object\n",
       "transmission          object\n",
       "insurance             object\n",
       "car_condition        float64\n",
       "dtype: object"
      ]
     },
     "execution_count": 50,
     "metadata": {},
     "output_type": "execute_result"
    }
   ],
   "source": [
    "df.dtypes # для определения всех колонок с типом строки, нас интересуют объекты"
   ]
  },
  {
   "cell_type": "code",
   "execution_count": 17,
   "metadata": {},
   "outputs": [
    {
     "data": {
      "text/plain": [
       "model                 True\n",
       "selling_price        False\n",
       "kilometers_driven    False\n",
       "year                 False\n",
       "owner                 True\n",
       "fuel_type             True\n",
       "transmission          True\n",
       "insurance             True\n",
       "car_condition        False\n",
       "dtype: bool"
      ]
     },
     "execution_count": 17,
     "metadata": {},
     "output_type": "execute_result"
    }
   ],
   "source": [
    "df.dtypes == object"
   ]
  },
  {
   "cell_type": "code",
   "execution_count": 19,
   "metadata": {},
   "outputs": [
    {
     "data": {
      "text/plain": [
       "['model', 'owner', 'fuel_type', 'transmission', 'insurance']"
      ]
     },
     "execution_count": 19,
     "metadata": {},
     "output_type": "execute_result"
    }
   ],
   "source": [
    "list(df.dtypes[df.dtypes==object].index)"
   ]
  },
  {
   "cell_type": "code",
   "execution_count": 20,
   "metadata": {},
   "outputs": [],
   "source": [
    "string_columns = list(df.dtypes[df.dtypes==object].index)"
   ]
  },
  {
   "cell_type": "code",
   "execution_count": 21,
   "metadata": {},
   "outputs": [],
   "source": [
    "for col in string_columns:\n",
    "    df[col] = df[col].str.lower().str.replace(' ', '_')"
   ]
  },
  {
   "cell_type": "code",
   "execution_count": 22,
   "metadata": {},
   "outputs": [
    {
     "data": {
      "text/html": [
       "<div>\n",
       "<style scoped>\n",
       "    .dataframe tbody tr th:only-of-type {\n",
       "        vertical-align: middle;\n",
       "    }\n",
       "\n",
       "    .dataframe tbody tr th {\n",
       "        vertical-align: top;\n",
       "    }\n",
       "\n",
       "    .dataframe thead th {\n",
       "        text-align: right;\n",
       "    }\n",
       "</style>\n",
       "<table border=\"1\" class=\"dataframe\">\n",
       "  <thead>\n",
       "    <tr style=\"text-align: right;\">\n",
       "      <th></th>\n",
       "      <th>model</th>\n",
       "      <th>selling_price</th>\n",
       "      <th>kilometers_driven</th>\n",
       "      <th>year</th>\n",
       "      <th>owner</th>\n",
       "      <th>fuel_type</th>\n",
       "      <th>transmission</th>\n",
       "      <th>insurance</th>\n",
       "      <th>car_condition</th>\n",
       "    </tr>\n",
       "  </thead>\n",
       "  <tbody>\n",
       "    <tr>\n",
       "      <th>0</th>\n",
       "      <td>marutiwagonr1.0lxi</td>\n",
       "      <td>312165</td>\n",
       "      <td>82238</td>\n",
       "      <td>2014</td>\n",
       "      <td>first_owner</td>\n",
       "      <td>petrol_+_cng</td>\n",
       "      <td>manual</td>\n",
       "      <td>expired</td>\n",
       "      <td>4.2</td>\n",
       "    </tr>\n",
       "    <tr>\n",
       "      <th>1</th>\n",
       "      <td>toyotaetiosliva</td>\n",
       "      <td>313799</td>\n",
       "      <td>30558</td>\n",
       "      <td>2013</td>\n",
       "      <td>first_owner</td>\n",
       "      <td>petrol</td>\n",
       "      <td>manual</td>\n",
       "      <td>12-09-2021</td>\n",
       "      <td>4.4</td>\n",
       "    </tr>\n",
       "    <tr>\n",
       "      <th>2</th>\n",
       "      <td>marutialto800</td>\n",
       "      <td>295999</td>\n",
       "      <td>22164</td>\n",
       "      <td>2018</td>\n",
       "      <td>first_owner</td>\n",
       "      <td>petrol</td>\n",
       "      <td>manual</td>\n",
       "      <td>01-12-2020</td>\n",
       "      <td>4.8</td>\n",
       "    </tr>\n",
       "    <tr>\n",
       "      <th>3</th>\n",
       "      <td>marutiswift</td>\n",
       "      <td>435199</td>\n",
       "      <td>30535</td>\n",
       "      <td>2013</td>\n",
       "      <td>first_owner</td>\n",
       "      <td>diesel</td>\n",
       "      <td>manual</td>\n",
       "      <td>comp</td>\n",
       "      <td>4.3</td>\n",
       "    </tr>\n",
       "    <tr>\n",
       "      <th>4</th>\n",
       "      <td>marutiwagonr1.0</td>\n",
       "      <td>289099</td>\n",
       "      <td>15738</td>\n",
       "      <td>2013</td>\n",
       "      <td>first_owner</td>\n",
       "      <td>petrol</td>\n",
       "      <td>manual</td>\n",
       "      <td>11-08-2021</td>\n",
       "      <td>4.3</td>\n",
       "    </tr>\n",
       "  </tbody>\n",
       "</table>\n",
       "</div>"
      ],
      "text/plain": [
       "                model  selling_price  kilometers_driven  year        owner  \\\n",
       "0  marutiwagonr1.0lxi         312165              82238  2014  first_owner   \n",
       "1     toyotaetiosliva         313799              30558  2013  first_owner   \n",
       "2       marutialto800         295999              22164  2018  first_owner   \n",
       "3         marutiswift         435199              30535  2013  first_owner   \n",
       "4     marutiwagonr1.0         289099              15738  2013  first_owner   \n",
       "\n",
       "      fuel_type transmission   insurance  car_condition  \n",
       "0  petrol_+_cng       manual     expired            4.2  \n",
       "1        petrol       manual  12-09-2021            4.4  \n",
       "2        petrol       manual  01-12-2020            4.8  \n",
       "3        diesel       manual        comp            4.3  \n",
       "4        petrol       manual  11-08-2021            4.3  "
      ]
     },
     "execution_count": 22,
     "metadata": {},
     "output_type": "execute_result"
    }
   ],
   "source": [
    "df.head() # данные теперь имеют более однородные вид"
   ]
  },
  {
   "cell_type": "markdown",
   "metadata": {},
   "source": [
    "# Анализ данных (как выглядят данные?)"
   ]
  },
  {
   "cell_type": "code",
   "execution_count": 23,
   "metadata": {},
   "outputs": [
    {
     "data": {
      "text/plain": [
       "model                 object\n",
       "selling_price          int64\n",
       "kilometers_driven      int64\n",
       "year                   int64\n",
       "owner                 object\n",
       "fuel_type             object\n",
       "transmission          object\n",
       "insurance             object\n",
       "car_condition        float64\n",
       "dtype: object"
      ]
     },
     "execution_count": 23,
     "metadata": {},
     "output_type": "execute_result"
    }
   ],
   "source": [
    "df.dtypes"
   ]
  },
  {
   "cell_type": "code",
   "execution_count": 24,
   "metadata": {},
   "outputs": [
    {
     "name": "stdout",
     "output_type": "stream",
     "text": [
      "model\n",
      "0    marutiwagonr1.0lxi\n",
      "1       toyotaetiosliva\n",
      "2         marutialto800\n",
      "3           marutiswift\n",
      "4       marutiwagonr1.0\n",
      "Name: model, dtype: object\n",
      "\n",
      "selling_price\n",
      "0    312165\n",
      "1    313799\n",
      "2    295999\n",
      "3    435199\n",
      "4    289099\n",
      "Name: selling_price, dtype: int64\n",
      "\n",
      "kilometers_driven\n",
      "0    82238\n",
      "1    30558\n",
      "2    22164\n",
      "3    30535\n",
      "4    15738\n",
      "Name: kilometers_driven, dtype: int64\n",
      "\n",
      "year\n",
      "0    2014\n",
      "1    2013\n",
      "2    2018\n",
      "3    2013\n",
      "4    2013\n",
      "Name: year, dtype: int64\n",
      "\n",
      "owner\n",
      "0    first_owner\n",
      "1    first_owner\n",
      "2    first_owner\n",
      "3    first_owner\n",
      "4    first_owner\n",
      "Name: owner, dtype: object\n",
      "\n",
      "fuel_type\n",
      "0    petrol_+_cng\n",
      "1          petrol\n",
      "2          petrol\n",
      "3          diesel\n",
      "4          petrol\n",
      "Name: fuel_type, dtype: object\n",
      "\n",
      "transmission\n",
      "0    manual\n",
      "1    manual\n",
      "2    manual\n",
      "3    manual\n",
      "4    manual\n",
      "Name: transmission, dtype: object\n",
      "\n",
      "insurance\n",
      "0       expired\n",
      "1    12-09-2021\n",
      "2    01-12-2020\n",
      "3          comp\n",
      "4    11-08-2021\n",
      "Name: insurance, dtype: object\n",
      "\n",
      "car_condition\n",
      "0    4.2\n",
      "1    4.4\n",
      "2    4.8\n",
      "3    4.3\n",
      "4    4.3\n",
      "Name: car_condition, dtype: float64\n",
      "\n"
     ]
    }
   ],
   "source": [
    "for col in df.columns: # для каждого столбца выведем некоторую статистику\n",
    "    print(col)\n",
    "    print(df[col].head())\n",
    "    print()"
   ]
  },
  {
   "cell_type": "code",
   "execution_count": 25,
   "metadata": {},
   "outputs": [
    {
     "data": {
      "text/plain": [
       "array(['marutiwagonr1.0lxi', 'toyotaetiosliva', 'marutialto800',\n",
       "       'marutiswift', 'marutiwagonr1.0', 'hyundaielitei20asta1.2',\n",
       "       'hyundaigrandi10sportz1.2kappa', 'hyundaielitei20asta',\n",
       "       'maruticelerio', 'marutiswiftdzirevxi1.2bs', 'marutidzire',\n",
       "       'hondacivic1.8s', 'marutialtok10vxi', 'marutialto800lxi',\n",
       "       'hyundaivernafluidic1.6ex', 'toyotaetioscross1.4',\n",
       "       'hondacitysvcvt', 'volkswagenventohighline', 'hyundaii20magnao',\n",
       "       'volkswagenpologt', 'mahindratuv300', 'hondaamaze1.5vcvt',\n",
       "       'tatananoxt', 'renaultkwid', 'marutialtok10',\n",
       "       'hyundaielitei20sportz', 'marutizenestilo', 'maruticeleriozxi',\n",
       "       'marutiswiftdzirevdibs', 'marutibalenoalpha1.2', 'marutiswiftvdi',\n",
       "       'tatatiagoxt1.2', 'mahindraboleropower+',\n",
       "       'hyundaielitei20magna1.4', 'marutisx4', 'marutibalenodelta1.2k12',\n",
       "       'marutiswiftvxi', 'hondacityvmt', 'mahindraxuv500w8',\n",
       "       'hyundaivenue1.4crdimt', 'hyundaii20magnao1.4',\n",
       "       'fordecosport1.5titaniumti', 'hyundaii10sportz1.2',\n",
       "       'hondabrio1.2vmti', 'marutiertigazxismarthybrid', 'hondacityvxmt',\n",
       "       'mahindrascorpios6', 'hyundaivenue1.0lturbogdisx(o)',\n",
       "       'hondaaccord2.4ati', 'toyotacorollaaltis',\n",
       "       'volkswagenpolohighline1.2l', 'marutiritz',\n",
       "       'hyundaivernafluidic1.6sxvtvt', 'hyundaigrandi10sports1.2',\n",
       "       'hondacitysmt', 'hyundaisantroxinggl', 'marutiswiftzdi',\n",
       "       'marutiertiga', 'maruticeleriovxi', 'marutialtok10vxi(o)',\n",
       "       'hyundaii10magna', 'hyundaielitei201.2magnaplus',\n",
       "       'hyundaieonmagna', 'hondacityv', 'marutialto',\n",
       "       'marutibalenodelta1.2', 'hyundaivernafluidic1.6sxcrdi',\n",
       "       'hyundaii20magna1.2', 'marutiswiftdzirelxi1.2bs', 'toyotaetios',\n",
       "       'nissanmicraxvpremium', 'hyundaigrandi10sportz(o)1.2at',\n",
       "       'marutiwagonr1.0lxicng', 'marutivitarabrezza', 'hondaamaze1.2smti',\n",
       "       'hyundaivernafluidic1.6sx', 'hyundaigrandi10astaat1.2kappa',\n",
       "       'toyotainnova2.5gx8strbs', 'hyundaisantroxing', 'datsunredigo',\n",
       "       'hondabrio1.2smti', 'hondacity1.5v', 'renaultlodgy110psrxz8',\n",
       "       'chevroletcruzeltz', 'marutivitarabrezzazdi', 'hyundaixcents',\n",
       "       'fordecosport1.5titanium', 'toyotaetioslivagd',\n",
       "       'marutinewwagon-rlxi1.0', 'marutiritzvxibs', 'marutiritzvxi',\n",
       "       'hyundaigrandi10era1.2', 'hyundaigrandi10magna1.2',\n",
       "       'marutieeco5strwithac', 'hyundaisantroxingxoerlxeuro',\n",
       "       'maruticiazvdi', 'marutiswiftdzire', 'marutiastar',\n",
       "       'mahindrascorpio', 'renaultdusterrxz85ps', 'marutidzirevdi',\n",
       "       'datsungoremix', 'skodalauraambition2.0tdicr', 'hondacitysvmt',\n",
       "       'hyundaiverna1.6sx(o)crdi', 'volkswagenpolocomfortline1.2l',\n",
       "       'marutibalenodeltaddis', 'toyotaetiosvx', 'mahindrakuv100k6d6',\n",
       "       'marutiertigavdi', 'hyundaicreta1.6sx', 'marutiswiftdzireldibs',\n",
       "       'hyundaieonera', 'maruticiazzeta1.5shvsvvt', 'hyundaii20asta1.4',\n",
       "       'volkswagenjettacomfortline2.0l', 'hyundaii10sportz1.2at',\n",
       "       'volkswagenpolocomfortline1.5l', 'skodarapid1.5tdimt',\n",
       "       'renaultdusterrxlamt110', 'tatahexavaricor400', 'marutiscrosszeta',\n",
       "       'marutieeco5strcngwithac', 'toyotacorollaaltisvl',\n",
       "       'hyundaii10magna1.2', 'marutiwagonr', 'fordfigo1.2zxi',\n",
       "       'marutinewwagon-rvxi', 'mahindratharcrde4x4bs', 'hondacityvxmto',\n",
       "       'hyundaii20asta', 'marutiignisdelta1.2k12', 'audiq335tdi',\n",
       "       'hyundaivernafluidic1.6excrdi', 'fordecosport1.5titaniumtivct',\n",
       "       'datsungo', 'hondaamaze1.2emti', 'bmw3series320d',\n",
       "       'hyundaii10magna1.1', 'hyundaicreta1.6sxplus', 'fordecosport',\n",
       "       'hondacityzx1.5', 'hyundaii20sportz1.2',\n",
       "       'marutivitarabrezzazdiplusdual', 'skodasuperbelegance1.8tsi',\n",
       "       'marutiswiftlxi', 'hyundaisantroxingxlerlxeuro',\n",
       "       'hyundaigrandi10asta1.1(o)', 'audia62.0', 'hyundaicreta1.6e+',\n",
       "       'renaultduster85ps', 'marutiomnie8', 'hyundaieondlite',\n",
       "       'hondaamaze1.2exmti', 'fordfigo1.4exi', 'maruticiazzxi',\n",
       "       'hyundaielitei20asta1.4', 'chevroletbeatps', 'hondabrio1.2vxmti',\n",
       "       'toyotainnova2.5vx8strbs', 'maruticiazdelta1.5shvs',\n",
       "       'toyotacorollaaltisd4d', 'hyundaigrandi10sportz1.2',\n",
       "       'marutisx4zximtleatherbs', 'skodarapid1.6tdimt', 'hyundaii10',\n",
       "       'toyotafortuner3.0mt', 'volkswagenpolotrendline1.2l',\n",
       "       'hyundaigrandi10magna1.2kappa', 'bmw5series',\n",
       "       'fordecosport1.5titaniumtdci', 'toyotacorollaaltis1.8',\n",
       "       'tatatiagojtp', 'marutibalenoalphaddis', 'fordfigo1.2titanium',\n",
       "       'marutibalenozeta1.2', 'hondaamaze1.5smti',\n",
       "       'skodafabiaelegance1.2', 'renaultkwidrxt', 'hondaamaze1.2vxmti',\n",
       "       'renaultkwidrxt1.0easy-r', 'marutialtok10lxi', 'mahindraxuv500',\n",
       "       'volkswagenpolohighline1.5l', 'hondaamaze1.5sxmti',\n",
       "       'maruticiazdelta1.5shvsvvt', 'bmwx1sdrive', 'tatatiagoxz1.05',\n",
       "       'marutiritzvxiabs', 'toyotacorollah31.8', 'tatanexonxz+',\n",
       "       'hyundaicreta1.6crdisxplus', 'fiatgrandpuntoactive',\n",
       "       'hondaamaze1.5emti', 'marutiswiftldibs', 'marutieeco7',\n",
       "       'hyundaixcentsx', 'hyundaixcents1.2', 'renaultkwidclimber1.0',\n",
       "       'tatatiagoxz1.2', 'hyundaii20sportzo1.4', 'tatanexonxm',\n",
       "       'hondacity1.5emt', 'hyundaiaccentexecutive', 'marutiscrosssigma',\n",
       "       'renaultkwidrxt1.0easy-rat', 'marutivitarabrezzazdi+',\n",
       "       'marutidzirevxi', 'renaultdusterrxzamt110',\n",
       "       'fordnewfigo1.5titaniumat', 'skodasuperbelegancetdi2.0',\n",
       "       'maruticeleriovxi(o)', 'marutiswiftzxi',\n",
       "       'marutiswiftdzirezxi1.2bs', 'marutiwagonrvxibs', 'bmw3series',\n",
       "       'marutiwagonr1.0vxi', 'tatananotwist', 'hyundaigrandi10sportz1.1',\n",
       "       'mercedesbenzglaclass200cdi', 'hyundaielitei20sportz(o)',\n",
       "       'hyundaii20active1.2', 'tataindicavistaaura1.3',\n",
       "       'marutieeco5strcngwith', 'marutiwagonrstingray',\n",
       "       'hyundaii10sportz1.1', 'fordecosport1.5trend', 'hondajazz1.2sv',\n",
       "       'skodarapidelegance1.6mpfi', 'hyundaiverna1.6sxvtvtat',\n",
       "       'hondacivic1.8v', 'hyundaieon', 'marutiertigavxismart',\n",
       "       'hyundaicreta1.4eplus', 'maruticiazzeta1.4', 'marutiswiftdzirevdi',\n",
       "       'renaultkwidrxl1.0easy-r', 'hondaamaze1.5vxmti', 'hondajazz1.2v',\n",
       "       'hondajazz1.2basei', 'hyundaigrandi101.2asta(o)',\n",
       "       'marutiswiftvdiglory', 'datsunredigot', 'marutiigniszeta1.2k12',\n",
       "       'hondacityvxcvt', 'hondabrio1.2v', 'hyundainewsantroasta1.1',\n",
       "       'fordecosport1.5ambiente', 'marutivitarabrezzaldi',\n",
       "       'toyotaetioslivad4d', 'maruticeleriox', 'fordecosport1.0ecoboost',\n",
       "       'volkswagenventohighlinetdi', 'toyotafortuner3.0at',\n",
       "       'marutiritzzxi', 'hyundaii10era1.1', 'renaultduster85psrxl',\n",
       "       'renaultdusterrxzdiesel', 'hondabrio1.2vxati', 'marutiertigavxi',\n",
       "       'hyundaigrandi10asta1.2kappa', 'volkswagenventohighline1.2tsi',\n",
       "       'marutiignisdelta1.2', 'hyundaigrandi10sportz(o)1.2',\n",
       "       'marutivitarabrezzavdi', 'chevroletsparkls',\n",
       "       'toyotainnova2.5vx7strbs', 'marutinewwagon-r1.0lxi(o)',\n",
       "       'hyundaii10sportz', 'marutiswiftdzirevxi', 'marutibalenosigma1.2',\n",
       "       'volkswagenpolotrendline1.0l', 'toyotainnovacrysta2.4gx8',\n",
       "       'mahindraxuv500w6', 'toyotaetioslivad4dgd', 'hondabrio1.2exmti',\n",
       "       'hyundaigrandi10asta1.2at', 'skodafabiaambiente1.2',\n",
       "       'hyundaii20sportz1.4', 'volkswagenventohighlinepetrol',\n",
       "       'marutiswiftzxi+bs', 'nissanterranoxl110',\n",
       "       'hyundaielitei201.4crdiasta', 'skodarapid1.5tdiat',\n",
       "       'hyundaivernafluidic1.4crdi', 'hyundaigrandi10sportzo',\n",
       "       'renaultkwid1.0rxt', 'mahindraxuv500w11', 'hyundainewelantras1.6',\n",
       "       'nissansunnyxv', 'hyundaii10asta1.2atkappa2with',\n",
       "       'fordecosport1.5tdcititanium', 'nissanterranoxlplus85ps',\n",
       "       'skodarapid1.5activetdi', 'maruticiazalpha1.5atvtvt',\n",
       "       'hyundaivernafluidic1.6crdisx', 'tataindicavistavx',\n",
       "       'hyundaivernafluidic1.4', 'skodarapid1.6tdimtambition',\n",
       "       'marutiswiftvxilimited', 'hyundaixcentsx1.1crdi',\n",
       "       'volkswagenventotrendline', 'tatanexonxma', 'hondawr-v1.2i-vtecvx',\n",
       "       'tatatiagoxza1.2', 'mahindrascorpioslebs', 'mahindramarazzom87',\n",
       "       'hondaamaze1.2vcvti', 'maruticiazdelta1.3ddis', 'maruticiazvdi+',\n",
       "       'hyundaigrandi10magna1.2at', 'hyundainewsantro1.1magnacng',\n",
       "       'toyotaetiosgd', 'hondabr-v1.5i-vtec', 'maruticiazzdishvs',\n",
       "       'hondamobilio1.5vi', 'renaultkwid1.0', 'toyotainnova2.5gx7strbs',\n",
       "       'mghectorsharpdct', 'maruticiazalpha1.3ddis', 'toyotacorollah21.8',\n",
       "       'marutinewwagon-r1.0lxi', 'hyundaii10asta1.2', 'mahindraxuv3oo',\n",
       "       'hyundaii20magna1.4', 'renaultdusterrxz110',\n",
       "       'fordecosport1.5titaniumplustivct', 'tatatigorrevotron',\n",
       "       'marutinewwagon-rlxicng1.0', 'hyundaisantroxinggls',\n",
       "       'volkswagenjettatrendline2.0l', 'nissanterranoxlopt85',\n",
       "       'hyundaivernafluidic1.6crdisxopt', 'mercedesbenzeclasse250',\n",
       "       'marutieeco5strwithacplus', 'hyundaicreta1.6sxat',\n",
       "       'audia62.0tdipremium', 'hondaamaze1.2sati', 'hyundaicreta1.6sx(o)',\n",
       "       'volkswagenventocomfortlinemt', 'hondacityzx1.5vtec',\n",
       "       'hyundaielitei20asta1.2dual', 'volkswagenventocomfortline',\n",
       "       'volkswagenpolohighline1.6l', 'hondamobilio1.5si',\n",
       "       'fordfiestatrend', 'hyundaigrandi10sportz1.1crdispecial',\n",
       "       'skodalauraelegance2.0tdicr', 'maruticiazalpha1.5mtvvt',\n",
       "       'hyundaicreta1.4s', 'hyundaixcentsx1.1', 'hyundainewsantrosportz',\n",
       "       'hyundaigrandi10sportzat1.2kappa', 'nissansunnyxl',\n",
       "       'hyundaielitei201.2sportsplus', 'marutiwagonr1.0vxi+(o)',\n",
       "       'ssangyongrexton', 'marutiswiftzxiplus', 'hondacityvx(o)',\n",
       "       'skodarapid1.5tdimtambition', 'hondaamaze1.2vmt', 'hyundaiverna',\n",
       "       'hondamobilio1.5vopti', 'toyotainnovacrysta2.8zxat7',\n",
       "       'hyundaii20era', 'marutiwagonr1.0lxicnglimited',\n",
       "       'mahindraxuv500w10', 'skodasuperb1.8tsistyle',\n",
       "       'toyotainnovacrysta2.4vx8', 'renaultkwidclimber', 'maruticiazzdi+',\n",
       "       'toyotainnovacrysta2.4vx7', 'hyundaielitei20sportz(o)1.4crdi',\n",
       "       'toyotayarisj', 'marutiertigazdiplus', 'marutiwagonrduolxi',\n",
       "       'hyundaigrandi10niossportz1.2', 'hondacrv2.4at4wd',\n",
       "       'marutidzirezxi', 'volkswagenpassathighline',\n",
       "       'marutiwagonr1.0vxiopt', 'toyotaetioslivag',\n",
       "       'jeepcompasslimited1.4', 'maruticiaz', 'marutialtolxi', 'tatanano',\n",
       "       'hyundaivenuesmt1.2', 'marutiswiftvxi1.3',\n",
       "       'hyundaivenue1.0lturbogdisx', 'skodalauraambiente2.0tdicr',\n",
       "       'tatazestxmaquadrajet', 'volkswagenpologttsi1.2petrol',\n",
       "       'marutiastarvxiabs', 'maruticeleriozxiopt', 'mahindramarazzom28',\n",
       "       'hyundaielitei20era', 'fordfigoaspire1.5trend', 'marutieeco5',\n",
       "       'hyundaivenue1.0turbogdisx+', 'mahindratuv300t8',\n",
       "       'tatatiagoxt1.05', 'hondacityzx', 'hyundaitucsonnew2wdatgls',\n",
       "       'mercedesbenzcclass220edition', 'hyundaieoneraplus',\n",
       "       'renaultdusterrxldiesel', 'marutialtok10k10vxi',\n",
       "       'marutiswiftdzirezxi', 'hyundaicreta1.6sxplusauto',\n",
       "       'hyundaivernafluidic1.6sxvtvtopt', 'marutibalenozeta1.2k12',\n",
       "       'hondaamaze1.5exmti', 'fordfigoaspire1.5titanium',\n",
       "       'marutiswiftdzirevxiregallimited', 'hondabrio1.2emti',\n",
       "       'marutibalenozetaddis', 'mahindrakuv100k46',\n",
       "       'hyundaielitei20magna', 'toyotaetioslivav',\n",
       "       'toyotainnovacrysta2.4gx7', 'skodarapidelegance1.6tdi',\n",
       "       'toyotacorollahe1.8', 'toyotacorollaaltisj', 'hyundaicreta1.6',\n",
       "       'fordfigoaspire1.2ambiente', 'toyotaetioscross',\n",
       "       'fiatgrandpuntodynamic', 'fordfigo1.2exi', 'jeepcompass2.0limited',\n",
       "       'nissanmicraxeplus', 'toyotainnova2.5v', 'fordecosport1.5trendti',\n",
       "       'hyundaielitei20magnaexecutive', 'hyundaieond'], dtype=object)"
      ]
     },
     "execution_count": 25,
     "metadata": {},
     "output_type": "execute_result"
    }
   ],
   "source": [
    "df.model.unique()"
   ]
  },
  {
   "cell_type": "code",
   "execution_count": 28,
   "metadata": {},
   "outputs": [
    {
     "data": {
      "text/plain": [
       "434"
      ]
     },
     "execution_count": 28,
     "metadata": {},
     "output_type": "execute_result"
    }
   ],
   "source": [
    "df.model.nunique()"
   ]
  },
  {
   "cell_type": "code",
   "execution_count": 30,
   "metadata": {},
   "outputs": [
    {
     "name": "stdout",
     "output_type": "stream",
     "text": [
      "model\n",
      "['marutiwagonr1.0lxi' 'toyotaetiosliva' 'marutialto800' 'marutiswift'\n",
      " 'marutiwagonr1.0']\n",
      "434\n",
      "\n",
      "selling_price\n",
      "[312165 313799 295999 435199 289099]\n",
      "1930\n",
      "\n",
      "kilometers_driven\n",
      "[82238 30558 22164 30535 15738]\n",
      "2221\n",
      "\n",
      "year\n",
      "[2014 2013 2018 2015 2012]\n",
      "15\n",
      "\n",
      "owner\n",
      "['first_owner' 'third_owner' 'second_owner']\n",
      "3\n",
      "\n",
      "fuel_type\n",
      "['petrol_+_cng' 'petrol' 'diesel' 'petrol_+_lpg']\n",
      "4\n",
      "\n",
      "transmission\n",
      "['manual' 'mh12' 'ts07' 'automatic' 'up14']\n",
      "58\n",
      "\n",
      "insurance\n",
      "['expired' '12-09-2021' '01-12-2020' 'comp' '11-08-2021']\n",
      "473\n",
      "\n",
      "car_condition\n",
      "[4.2 4.4 4.8 4.3 4.7]\n",
      "19\n",
      "\n"
     ]
    }
   ],
   "source": [
    "for col in df.columns: # для каждого столбца выведем некоторую статистику\n",
    "    print(col)\n",
    "    print(df[col].unique()[:5]) \n",
    "    print(df[col].nunique()) # количество уникальный значений\n",
    "    print()"
   ]
  },
  {
   "cell_type": "code",
   "execution_count": 31,
   "metadata": {
    "scrolled": true
   },
   "outputs": [
    {
     "data": {
      "text/plain": [
       "0       312165\n",
       "1       313799\n",
       "2       295999\n",
       "3       435199\n",
       "4       289099\n",
       "         ...  \n",
       "2232    385999\n",
       "2233    324099\n",
       "2234    212299\n",
       "2235    378899\n",
       "2236    304299\n",
       "Name: selling_price, Length: 2237, dtype: int64"
      ]
     },
     "execution_count": 31,
     "metadata": {},
     "output_type": "execute_result"
    }
   ],
   "source": [
    "df.selling_price"
   ]
  },
  {
   "cell_type": "code",
   "execution_count": 33,
   "metadata": {},
   "outputs": [
    {
     "name": "stdout",
     "output_type": "stream",
     "text": [
      "Requirement already satisfied: seaborn in c:\\users\\kate\\anaconda3\\lib\\site-packages (0.11.1)\n",
      "Requirement already satisfied: pandas>=0.23 in c:\\users\\kate\\anaconda3\\lib\\site-packages (from seaborn) (1.2.4)\n",
      "Requirement already satisfied: scipy>=1.0 in c:\\users\\kate\\anaconda3\\lib\\site-packages (from seaborn) (1.6.2)\n",
      "Requirement already satisfied: numpy>=1.15 in c:\\users\\kate\\anaconda3\\lib\\site-packages (from seaborn) (1.20.1)\n",
      "Requirement already satisfied: matplotlib>=2.2 in c:\\users\\kate\\anaconda3\\lib\\site-packages (from seaborn) (3.3.4)\n",
      "Requirement already satisfied: pillow>=6.2.0 in c:\\users\\kate\\anaconda3\\lib\\site-packages (from matplotlib>=2.2->seaborn) (8.2.0)\n",
      "Requirement already satisfied: kiwisolver>=1.0.1 in c:\\users\\kate\\anaconda3\\lib\\site-packages (from matplotlib>=2.2->seaborn) (1.3.1)\n",
      "Requirement already satisfied: cycler>=0.10 in c:\\users\\kate\\anaconda3\\lib\\site-packages (from matplotlib>=2.2->seaborn) (0.10.0)\n",
      "Requirement already satisfied: python-dateutil>=2.1 in c:\\users\\kate\\anaconda3\\lib\\site-packages (from matplotlib>=2.2->seaborn) (2.8.1)\n",
      "Requirement already satisfied: pyparsing!=2.0.4,!=2.1.2,!=2.1.6,>=2.0.3 in c:\\users\\kate\\anaconda3\\lib\\site-packages (from matplotlib>=2.2->seaborn) (2.4.7)\n",
      "Requirement already satisfied: six in c:\\users\\kate\\anaconda3\\lib\\site-packages (from cycler>=0.10->matplotlib>=2.2->seaborn) (1.15.0)\n",
      "Requirement already satisfied: pytz>=2017.3 in c:\\users\\kate\\anaconda3\\lib\\site-packages (from pandas>=0.23->seaborn) (2021.1)\n"
     ]
    }
   ],
   "source": [
    "! pip install seaborn"
   ]
  },
  {
   "cell_type": "code",
   "execution_count": 36,
   "metadata": {},
   "outputs": [],
   "source": [
    "import matplotlib.pyplot as plt\n",
    "import seaborn as sns \n",
    "\n",
    "%matplotlib inline"
   ]
  },
  {
   "cell_type": "code",
   "execution_count": 37,
   "metadata": {},
   "outputs": [
    {
     "data": {
      "text/plain": [
       "<AxesSubplot:xlabel='selling_price', ylabel='Count'>"
      ]
     },
     "execution_count": 37,
     "metadata": {},
     "output_type": "execute_result"
    },
    {
     "data": {
      "image/png": "[encoded data removed]",
      "text/plain": [
       "<Figure size 432x288 with 1 Axes>"
      ]
     },
     "metadata": {
      "needs_background": "light"
     },
     "output_type": "display_data"
    }
   ],
   "source": [
    "sns.histplot(df.selling_price)"
   ]
  },
  {
   "cell_type": "code",
   "execution_count": 38,
   "metadata": {},
   "outputs": [
    {
     "data": {
      "text/plain": [
       "<AxesSubplot:xlabel='selling_price', ylabel='Count'>"
      ]
     },
     "execution_count": 38,
     "metadata": {},
     "output_type": "execute_result"
    },
    {
     "data": {
      "image/png": "[encoded data removed]",
      "text/plain": [
       "<Figure size 432x288 with 1 Axes>"
      ]
     },
     "metadata": {
      "needs_background": "light"
     },
     "output_type": "display_data"
    }
   ],
   "source": [
    "sns.histplot(df.selling_price, bins = 50) #bins-количество столбиков гистограммы\n",
    "# 1e6 = 1.000.000\n",
    "# такое распределение называется long tail distribution (распределение с длинным хвостом)"
   ]
  },
  {
   "cell_type": "code",
   "execution_count": 39,
   "metadata": {},
   "outputs": [
    {
     "data": {
      "text/plain": [
       "model                volkswagenventotrendline\n",
       "selling_price                         1952397\n",
       "kilometers_driven                      855881\n",
       "year                                     2020\n",
       "owner                             third_owner\n",
       "fuel_type                        petrol_+_lpg\n",
       "transmission                             up78\n",
       "car_condition                             5.0\n",
       "dtype: object"
      ]
     },
     "execution_count": 39,
     "metadata": {},
     "output_type": "execute_result"
    }
   ],
   "source": [
    "df.max()"
   ]
  },
  {
   "cell_type": "code",
   "execution_count": 40,
   "metadata": {},
   "outputs": [
    {
     "data": {
      "text/plain": [
       "<AxesSubplot:xlabel='selling_price', ylabel='Count'>"
      ]
     },
     "execution_count": 40,
     "metadata": {},
     "output_type": "execute_result"
    },
    {
     "data": {
      "image/png": "[encoded data removed]",
      "text/plain": [
       "<Figure size 432x288 with 1 Axes>"
      ]
     },
     "metadata": {
      "needs_background": "light"
     },
     "output_type": "display_data"
    }
   ],
   "source": [
    "sns.histplot(df[df.selling_price<2000000].selling_price, bins = 50)"
   ]
  },
  {
   "cell_type": "code",
   "execution_count": 41,
   "metadata": {},
   "outputs": [
    {
     "data": {
      "text/plain": [
       "418443.0688421994"
      ]
     },
     "execution_count": 41,
     "metadata": {},
     "output_type": "execute_result"
    }
   ],
   "source": [
    "df[df.selling_price<2000000].selling_price.mean()"
   ]
  },
  {
   "cell_type": "code",
   "execution_count": 42,
   "metadata": {},
   "outputs": [
    {
     "data": {
      "text/plain": [
       "<AxesSubplot:xlabel='selling_price', ylabel='Count'>"
      ]
     },
     "execution_count": 42,
     "metadata": {},
     "output_type": "execute_result"
    },
    {
     "data": {
      "image/png": "[encoded data removed]",
      "text/plain": [
       "<Figure size 432x288 with 1 Axes>"
      ]
     },
     "metadata": {
      "needs_background": "light"
     },
     "output_type": "display_data"
    }
   ],
   "source": [
    "sns.histplot(df[df.selling_price<2000000].selling_price, bins = 100)"
   ]
  },
  {
   "cell_type": "code",
   "execution_count": 43,
   "metadata": {},
   "outputs": [],
   "source": [
    "# распределение с длинным хвостом часто мешает предсказательной модели"
   ]
  },
  {
   "cell_type": "code",
   "execution_count": 44,
   "metadata": {},
   "outputs": [
    {
     "data": {
      "text/plain": [
       "array([0.        , 2.30258509, 4.60517019, 6.90775528])"
      ]
     },
     "execution_count": 44,
     "metadata": {},
     "output_type": "execute_result"
    }
   ],
   "source": [
    "np.log([1, 10, 100, 1000]) # часто применяют логарифмическое преобразование"
   ]
  },
  {
   "cell_type": "code",
   "execution_count": 45,
   "metadata": {},
   "outputs": [
    {
     "name": "stderr",
     "output_type": "stream",
     "text": [
      "<ipython-input-45-8bc303c9c586>:1: RuntimeWarning: divide by zero encountered in log\n",
      "  np.log([0, 1, 10, 100, 1000])  # возникает проблема с нулём\n"
     ]
    },
    {
     "data": {
      "text/plain": [
       "array([      -inf, 0.        , 2.30258509, 4.60517019, 6.90775528])"
      ]
     },
     "execution_count": 45,
     "metadata": {},
     "output_type": "execute_result"
    }
   ],
   "source": [
    "np.log([0, 1, 10, 100, 1000])  # возникает проблема с нулём"
   ]
  },
  {
   "cell_type": "code",
   "execution_count": 46,
   "metadata": {},
   "outputs": [
    {
     "data": {
      "text/plain": [
       "array([0.        , 0.69314718, 2.39789527, 4.61512052, 6.90875478])"
      ]
     },
     "execution_count": 46,
     "metadata": {},
     "output_type": "execute_result"
    }
   ],
   "source": [
    "np.log([0 + 1, 1 + 1, 10 + 1, 100 + 1, 1000 + 1]) # решается добавлением 1"
   ]
  },
  {
   "cell_type": "code",
   "execution_count": 47,
   "metadata": {},
   "outputs": [
    {
     "data": {
      "text/plain": [
       "array([0.        , 0.69314718, 2.39789527, 4.61512052, 6.90875478])"
      ]
     },
     "execution_count": 47,
     "metadata": {},
     "output_type": "execute_result"
    }
   ],
   "source": [
    "np.log1p([0,1,10,100,1000]) # log(x+1) numpy.log1p добавляет + 1"
   ]
  },
  {
   "cell_type": "code",
   "execution_count": 48,
   "metadata": {},
   "outputs": [],
   "source": [
    "price_logs = np.log1p(df.selling_price)"
   ]
  },
  {
   "cell_type": "code",
   "execution_count": 49,
   "metadata": {},
   "outputs": [
    {
     "data": {
      "text/plain": [
       "0       12.651290\n",
       "1       12.656511\n",
       "2       12.598115\n",
       "3       12.983561\n",
       "4       12.574528\n",
       "          ...    \n",
       "2232    12.863593\n",
       "2233    12.688807\n",
       "2234    12.265756\n",
       "2235    12.845028\n",
       "2236    12.625769\n",
       "Name: selling_price, Length: 2237, dtype: float64"
      ]
     },
     "execution_count": 49,
     "metadata": {},
     "output_type": "execute_result"
    }
   ],
   "source": [
    "price_logs"
   ]
  },
  {
   "cell_type": "code",
   "execution_count": 50,
   "metadata": {},
   "outputs": [
    {
     "data": {
      "text/plain": [
       "<AxesSubplot:xlabel='selling_price', ylabel='Count'>"
      ]
     },
     "execution_count": 50,
     "metadata": {},
     "output_type": "execute_result"
    },
    {
     "data": {
      "image/png": "[encoded data removed]",
      "text/plain": [
       "<Figure size 432x288 with 1 Axes>"
      ]
     },
     "metadata": {
      "needs_background": "light"
     },
     "output_type": "display_data"
    }
   ],
   "source": [
    "sns.histplot(price_logs,bins=50)#хвост исчез\n",
    "# расределение является нормальным, что необходимо для правильной работы моделей"
   ]
  },
  {
   "cell_type": "markdown",
   "metadata": {},
   "source": [
    "# ВАЛИДАЦИЯ МОДЕЛИ \n",
    "- разбиваем данный на три части: для обучения модели, для валидации, для тестирования\n",
    "- X_train, y_train, X_val, y_val, X_test, y_test\n",
    "- 60%, 20%, 20% - соотношениею между train:val:test"
   ]
  },
  {
   "cell_type": "code",
   "execution_count": 52,
   "metadata": {},
   "outputs": [
    {
     "data": {
      "text/plain": [
       "2237"
      ]
     },
     "execution_count": 52,
     "metadata": {},
     "output_type": "execute_result"
    }
   ],
   "source": [
    "len(df)"
   ]
  },
  {
   "cell_type": "code",
   "execution_count": 58,
   "metadata": {},
   "outputs": [
    {
     "data": {
      "text/plain": [
       "447.40000000000003"
      ]
     },
     "execution_count": 58,
     "metadata": {},
     "output_type": "execute_result"
    }
   ],
   "source": [
    "len(df) * 0.2"
   ]
  },
  {
   "cell_type": "code",
   "execution_count": 59,
   "metadata": {},
   "outputs": [
    {
     "data": {
      "text/plain": [
       "447"
      ]
     },
     "execution_count": 59,
     "metadata": {},
     "output_type": "execute_result"
    }
   ],
   "source": [
    "int(len(df) * 0.2)"
   ]
  },
  {
   "cell_type": "code",
   "execution_count": 60,
   "metadata": {},
   "outputs": [],
   "source": [
    "n = len(df)\n",
    "n_train = int(len(df) * 0.6)\n",
    "n_val = int(len(df) * 0.2)\n",
    "n_test = int(len(df) * 0.2)"
   ]
  },
  {
   "cell_type": "code",
   "execution_count": 61,
   "metadata": {},
   "outputs": [
    {
     "data": {
      "text/plain": [
       "False"
      ]
     },
     "execution_count": 61,
     "metadata": {},
     "output_type": "execute_result"
    }
   ],
   "source": [
    "n_train + n_val + n_test == n"
   ]
  },
  {
   "cell_type": "code",
   "execution_count": 62,
   "metadata": {},
   "outputs": [
    {
     "data": {
      "text/plain": [
       "(2236, 2237)"
      ]
     },
     "execution_count": 62,
     "metadata": {},
     "output_type": "execute_result"
    }
   ],
   "source": [
    "n_train + n_val + n_test, n"
   ]
  },
  {
   "cell_type": "code",
   "execution_count": 63,
   "metadata": {},
   "outputs": [],
   "source": [
    "n = len(df)\n",
    "n_train = int(len(df) * 0.6)\n",
    "n_val = int(len(df) * 0.2)\n",
    "n_test = n - n_val - n_train"
   ]
  },
  {
   "cell_type": "code",
   "execution_count": 64,
   "metadata": {},
   "outputs": [
    {
     "data": {
      "text/plain": [
       "True"
      ]
     },
     "execution_count": 64,
     "metadata": {},
     "output_type": "execute_result"
    }
   ],
   "source": [
    "n_train + n_val + n_test == n"
   ]
  },
  {
   "cell_type": "code",
   "execution_count": 65,
   "metadata": {},
   "outputs": [
    {
     "data": {
      "text/plain": [
       "model                toyotaetiosliva\n",
       "selling_price                 313799\n",
       "kilometers_driven              30558\n",
       "year                            2013\n",
       "owner                    first_owner\n",
       "fuel_type                     petrol\n",
       "transmission                  manual\n",
       "insurance                 12-09-2021\n",
       "car_condition                    4.4\n",
       "Name: 1, dtype: object"
      ]
     },
     "execution_count": 65,
     "metadata": {},
     "output_type": "execute_result"
    }
   ],
   "source": [
    "df.iloc[1] # можно получить строку"
   ]
  },
  {
   "cell_type": "code",
   "execution_count": 66,
   "metadata": {},
   "outputs": [
    {
     "data": {
      "text/html": [
       "<div>\n",
       "<style scoped>\n",
       "    .dataframe tbody tr th:only-of-type {\n",
       "        vertical-align: middle;\n",
       "    }\n",
       "\n",
       "    .dataframe tbody tr th {\n",
       "        vertical-align: top;\n",
       "    }\n",
       "\n",
       "    .dataframe thead th {\n",
       "        text-align: right;\n",
       "    }\n",
       "</style>\n",
       "<table border=\"1\" class=\"dataframe\">\n",
       "  <thead>\n",
       "    <tr style=\"text-align: right;\">\n",
       "      <th></th>\n",
       "      <th>model</th>\n",
       "      <th>selling_price</th>\n",
       "      <th>kilometers_driven</th>\n",
       "      <th>year</th>\n",
       "      <th>owner</th>\n",
       "      <th>fuel_type</th>\n",
       "      <th>transmission</th>\n",
       "      <th>insurance</th>\n",
       "      <th>car_condition</th>\n",
       "    </tr>\n",
       "  </thead>\n",
       "  <tbody>\n",
       "    <tr>\n",
       "      <th>0</th>\n",
       "      <td>marutiwagonr1.0lxi</td>\n",
       "      <td>312165</td>\n",
       "      <td>82238</td>\n",
       "      <td>2014</td>\n",
       "      <td>first_owner</td>\n",
       "      <td>petrol_+_cng</td>\n",
       "      <td>manual</td>\n",
       "      <td>expired</td>\n",
       "      <td>4.2</td>\n",
       "    </tr>\n",
       "    <tr>\n",
       "      <th>1</th>\n",
       "      <td>toyotaetiosliva</td>\n",
       "      <td>313799</td>\n",
       "      <td>30558</td>\n",
       "      <td>2013</td>\n",
       "      <td>first_owner</td>\n",
       "      <td>petrol</td>\n",
       "      <td>manual</td>\n",
       "      <td>12-09-2021</td>\n",
       "      <td>4.4</td>\n",
       "    </tr>\n",
       "    <tr>\n",
       "      <th>2</th>\n",
       "      <td>marutialto800</td>\n",
       "      <td>295999</td>\n",
       "      <td>22164</td>\n",
       "      <td>2018</td>\n",
       "      <td>first_owner</td>\n",
       "      <td>petrol</td>\n",
       "      <td>manual</td>\n",
       "      <td>01-12-2020</td>\n",
       "      <td>4.8</td>\n",
       "    </tr>\n",
       "    <tr>\n",
       "      <th>3</th>\n",
       "      <td>marutiswift</td>\n",
       "      <td>435199</td>\n",
       "      <td>30535</td>\n",
       "      <td>2013</td>\n",
       "      <td>first_owner</td>\n",
       "      <td>diesel</td>\n",
       "      <td>manual</td>\n",
       "      <td>comp</td>\n",
       "      <td>4.3</td>\n",
       "    </tr>\n",
       "    <tr>\n",
       "      <th>4</th>\n",
       "      <td>marutiwagonr1.0</td>\n",
       "      <td>289099</td>\n",
       "      <td>15738</td>\n",
       "      <td>2013</td>\n",
       "      <td>first_owner</td>\n",
       "      <td>petrol</td>\n",
       "      <td>manual</td>\n",
       "      <td>11-08-2021</td>\n",
       "      <td>4.3</td>\n",
       "    </tr>\n",
       "  </tbody>\n",
       "</table>\n",
       "</div>"
      ],
      "text/plain": [
       "                model  selling_price  kilometers_driven  year        owner  \\\n",
       "0  marutiwagonr1.0lxi         312165              82238  2014  first_owner   \n",
       "1     toyotaetiosliva         313799              30558  2013  first_owner   \n",
       "2       marutialto800         295999              22164  2018  first_owner   \n",
       "3         marutiswift         435199              30535  2013  first_owner   \n",
       "4     marutiwagonr1.0         289099              15738  2013  first_owner   \n",
       "\n",
       "      fuel_type transmission   insurance  car_condition  \n",
       "0  petrol_+_cng       manual     expired            4.2  \n",
       "1        petrol       manual  12-09-2021            4.4  \n",
       "2        petrol       manual  01-12-2020            4.8  \n",
       "3        diesel       manual        comp            4.3  \n",
       "4        petrol       manual  11-08-2021            4.3  "
      ]
     },
     "execution_count": 66,
     "metadata": {},
     "output_type": "execute_result"
    }
   ],
   "source": [
    "df.head()"
   ]
  },
  {
   "cell_type": "code",
   "execution_count": 91,
   "metadata": {},
   "outputs": [
    {
     "data": {
      "text/html": [
       "<div>\n",
       "<style scoped>\n",
       "    .dataframe tbody tr th:only-of-type {\n",
       "        vertical-align: middle;\n",
       "    }\n",
       "\n",
       "    .dataframe tbody tr th {\n",
       "        vertical-align: top;\n",
       "    }\n",
       "\n",
       "    .dataframe thead th {\n",
       "        text-align: right;\n",
       "    }\n",
       "</style>\n",
       "<table border=\"1\" class=\"dataframe\">\n",
       "  <thead>\n",
       "    <tr style=\"text-align: right;\">\n",
       "      <th></th>\n",
       "      <th>model</th>\n",
       "      <th>selling_price</th>\n",
       "      <th>kilometers_driven</th>\n",
       "      <th>year</th>\n",
       "      <th>owner</th>\n",
       "      <th>fuel_type</th>\n",
       "      <th>transmission</th>\n",
       "      <th>insurance</th>\n",
       "      <th>car_condition</th>\n",
       "    </tr>\n",
       "  </thead>\n",
       "  <tbody>\n",
       "    <tr>\n",
       "      <th>0</th>\n",
       "      <td>marutiwagonr1.0lxi</td>\n",
       "      <td>312165</td>\n",
       "      <td>82238</td>\n",
       "      <td>2014</td>\n",
       "      <td>first_owner</td>\n",
       "      <td>petrol_+_cng</td>\n",
       "      <td>manual</td>\n",
       "      <td>expired</td>\n",
       "      <td>4.2</td>\n",
       "    </tr>\n",
       "    <tr>\n",
       "      <th>1</th>\n",
       "      <td>toyotaetiosliva</td>\n",
       "      <td>313799</td>\n",
       "      <td>30558</td>\n",
       "      <td>2013</td>\n",
       "      <td>first_owner</td>\n",
       "      <td>petrol</td>\n",
       "      <td>manual</td>\n",
       "      <td>12-09-2021</td>\n",
       "      <td>4.4</td>\n",
       "    </tr>\n",
       "    <tr>\n",
       "      <th>2</th>\n",
       "      <td>marutialto800</td>\n",
       "      <td>295999</td>\n",
       "      <td>22164</td>\n",
       "      <td>2018</td>\n",
       "      <td>first_owner</td>\n",
       "      <td>petrol</td>\n",
       "      <td>manual</td>\n",
       "      <td>01-12-2020</td>\n",
       "      <td>4.8</td>\n",
       "    </tr>\n",
       "  </tbody>\n",
       "</table>\n",
       "</div>"
      ],
      "text/plain": [
       "                model  selling_price  kilometers_driven  year        owner  \\\n",
       "0  marutiwagonr1.0lxi         312165              82238  2014  first_owner   \n",
       "1     toyotaetiosliva         313799              30558  2013  first_owner   \n",
       "2       marutialto800         295999              22164  2018  first_owner   \n",
       "\n",
       "      fuel_type transmission   insurance  car_condition  \n",
       "0  petrol_+_cng       manual     expired            4.2  \n",
       "1        petrol       manual  12-09-2021            4.4  \n",
       "2        petrol       manual  01-12-2020            4.8  "
      ]
     },
     "execution_count": 91,
     "metadata": {},
     "output_type": "execute_result"
    }
   ],
   "source": [
    "df.iloc[[0,1,2]] # можно получить несколько строк"
   ]
  },
  {
   "cell_type": "code",
   "execution_count": 92,
   "metadata": {},
   "outputs": [
    {
     "data": {
      "text/html": [
       "<div>\n",
       "<style scoped>\n",
       "    .dataframe tbody tr th:only-of-type {\n",
       "        vertical-align: middle;\n",
       "    }\n",
       "\n",
       "    .dataframe tbody tr th {\n",
       "        vertical-align: top;\n",
       "    }\n",
       "\n",
       "    .dataframe thead th {\n",
       "        text-align: right;\n",
       "    }\n",
       "</style>\n",
       "<table border=\"1\" class=\"dataframe\">\n",
       "  <thead>\n",
       "    <tr style=\"text-align: right;\">\n",
       "      <th></th>\n",
       "      <th>model</th>\n",
       "      <th>selling_price</th>\n",
       "      <th>kilometers_driven</th>\n",
       "      <th>year</th>\n",
       "      <th>owner</th>\n",
       "      <th>fuel_type</th>\n",
       "      <th>transmission</th>\n",
       "      <th>insurance</th>\n",
       "      <th>car_condition</th>\n",
       "    </tr>\n",
       "  </thead>\n",
       "  <tbody>\n",
       "    <tr>\n",
       "      <th>0</th>\n",
       "      <td>marutiwagonr1.0lxi</td>\n",
       "      <td>312165</td>\n",
       "      <td>82238</td>\n",
       "      <td>2014</td>\n",
       "      <td>first_owner</td>\n",
       "      <td>petrol_+_cng</td>\n",
       "      <td>manual</td>\n",
       "      <td>expired</td>\n",
       "      <td>4.2</td>\n",
       "    </tr>\n",
       "    <tr>\n",
       "      <th>1</th>\n",
       "      <td>toyotaetiosliva</td>\n",
       "      <td>313799</td>\n",
       "      <td>30558</td>\n",
       "      <td>2013</td>\n",
       "      <td>first_owner</td>\n",
       "      <td>petrol</td>\n",
       "      <td>manual</td>\n",
       "      <td>12-09-2021</td>\n",
       "      <td>4.4</td>\n",
       "    </tr>\n",
       "    <tr>\n",
       "      <th>2</th>\n",
       "      <td>marutialto800</td>\n",
       "      <td>295999</td>\n",
       "      <td>22164</td>\n",
       "      <td>2018</td>\n",
       "      <td>first_owner</td>\n",
       "      <td>petrol</td>\n",
       "      <td>manual</td>\n",
       "      <td>01-12-2020</td>\n",
       "      <td>4.8</td>\n",
       "    </tr>\n",
       "    <tr>\n",
       "      <th>3</th>\n",
       "      <td>marutiswift</td>\n",
       "      <td>435199</td>\n",
       "      <td>30535</td>\n",
       "      <td>2013</td>\n",
       "      <td>first_owner</td>\n",
       "      <td>diesel</td>\n",
       "      <td>manual</td>\n",
       "      <td>comp</td>\n",
       "      <td>4.3</td>\n",
       "    </tr>\n",
       "    <tr>\n",
       "      <th>4</th>\n",
       "      <td>marutiwagonr1.0</td>\n",
       "      <td>289099</td>\n",
       "      <td>15738</td>\n",
       "      <td>2013</td>\n",
       "      <td>first_owner</td>\n",
       "      <td>petrol</td>\n",
       "      <td>manual</td>\n",
       "      <td>11-08-2021</td>\n",
       "      <td>4.3</td>\n",
       "    </tr>\n",
       "    <tr>\n",
       "      <th>5</th>\n",
       "      <td>hyundaielitei20asta1.2</td>\n",
       "      <td>708199</td>\n",
       "      <td>32652</td>\n",
       "      <td>2018</td>\n",
       "      <td>first_owner</td>\n",
       "      <td>petrol</td>\n",
       "      <td>mh12</td>\n",
       "      <td>comp</td>\n",
       "      <td>4.7</td>\n",
       "    </tr>\n",
       "    <tr>\n",
       "      <th>6</th>\n",
       "      <td>hyundaigrandi10sportz1.2kappa</td>\n",
       "      <td>410788</td>\n",
       "      <td>32496</td>\n",
       "      <td>2013</td>\n",
       "      <td>first_owner</td>\n",
       "      <td>petrol</td>\n",
       "      <td>manual</td>\n",
       "      <td>expired</td>\n",
       "      <td>4.4</td>\n",
       "    </tr>\n",
       "    <tr>\n",
       "      <th>7</th>\n",
       "      <td>hyundaielitei20asta</td>\n",
       "      <td>606599</td>\n",
       "      <td>27487</td>\n",
       "      <td>2015</td>\n",
       "      <td>first_owner</td>\n",
       "      <td>petrol</td>\n",
       "      <td>manual</td>\n",
       "      <td>22-03-2021</td>\n",
       "      <td>4.6</td>\n",
       "    </tr>\n",
       "    <tr>\n",
       "      <th>8</th>\n",
       "      <td>maruticelerio</td>\n",
       "      <td>459199</td>\n",
       "      <td>41383</td>\n",
       "      <td>2018</td>\n",
       "      <td>first_owner</td>\n",
       "      <td>petrol</td>\n",
       "      <td>manual</td>\n",
       "      <td>06-03-2021</td>\n",
       "      <td>4.4</td>\n",
       "    </tr>\n",
       "    <tr>\n",
       "      <th>9</th>\n",
       "      <td>marutiwagonr1.0</td>\n",
       "      <td>265899</td>\n",
       "      <td>65476</td>\n",
       "      <td>2012</td>\n",
       "      <td>first_owner</td>\n",
       "      <td>petrol_+_cng</td>\n",
       "      <td>manual</td>\n",
       "      <td>23-10-2021</td>\n",
       "      <td>4.3</td>\n",
       "    </tr>\n",
       "  </tbody>\n",
       "</table>\n",
       "</div>"
      ],
      "text/plain": [
       "                           model  selling_price  kilometers_driven  year  \\\n",
       "0             marutiwagonr1.0lxi         312165              82238  2014   \n",
       "1                toyotaetiosliva         313799              30558  2013   \n",
       "2                  marutialto800         295999              22164  2018   \n",
       "3                    marutiswift         435199              30535  2013   \n",
       "4                marutiwagonr1.0         289099              15738  2013   \n",
       "5         hyundaielitei20asta1.2         708199              32652  2018   \n",
       "6  hyundaigrandi10sportz1.2kappa         410788              32496  2013   \n",
       "7            hyundaielitei20asta         606599              27487  2015   \n",
       "8                  maruticelerio         459199              41383  2018   \n",
       "9                marutiwagonr1.0         265899              65476  2012   \n",
       "\n",
       "         owner     fuel_type transmission   insurance  car_condition  \n",
       "0  first_owner  petrol_+_cng       manual     expired            4.2  \n",
       "1  first_owner        petrol       manual  12-09-2021            4.4  \n",
       "2  first_owner        petrol       manual  01-12-2020            4.8  \n",
       "3  first_owner        diesel       manual        comp            4.3  \n",
       "4  first_owner        petrol       manual  11-08-2021            4.3  \n",
       "5  first_owner        petrol         mh12        comp            4.7  \n",
       "6  first_owner        petrol       manual     expired            4.4  \n",
       "7  first_owner        petrol       manual  22-03-2021            4.6  \n",
       "8  first_owner        petrol       manual  06-03-2021            4.4  \n",
       "9  first_owner  petrol_+_cng       manual  23-10-2021            4.3  "
      ]
     },
     "execution_count": 92,
     "metadata": {},
     "output_type": "execute_result"
    }
   ],
   "source": [
    "df.iloc[:10] # первые 10 записей"
   ]
  },
  {
   "cell_type": "code",
   "execution_count": 93,
   "metadata": {},
   "outputs": [
    {
     "data": {
      "text/html": [
       "<div>\n",
       "<style scoped>\n",
       "    .dataframe tbody tr th:only-of-type {\n",
       "        vertical-align: middle;\n",
       "    }\n",
       "\n",
       "    .dataframe tbody tr th {\n",
       "        vertical-align: top;\n",
       "    }\n",
       "\n",
       "    .dataframe thead th {\n",
       "        text-align: right;\n",
       "    }\n",
       "</style>\n",
       "<table border=\"1\" class=\"dataframe\">\n",
       "  <thead>\n",
       "    <tr style=\"text-align: right;\">\n",
       "      <th></th>\n",
       "      <th>model</th>\n",
       "      <th>selling_price</th>\n",
       "      <th>kilometers_driven</th>\n",
       "      <th>year</th>\n",
       "      <th>owner</th>\n",
       "      <th>fuel_type</th>\n",
       "      <th>transmission</th>\n",
       "      <th>insurance</th>\n",
       "      <th>car_condition</th>\n",
       "    </tr>\n",
       "  </thead>\n",
       "  <tbody>\n",
       "    <tr>\n",
       "      <th>2227</th>\n",
       "      <td>toyotacorollaaltis</td>\n",
       "      <td>241899</td>\n",
       "      <td>83273</td>\n",
       "      <td>2009</td>\n",
       "      <td>second_owner</td>\n",
       "      <td>petrol_+_cng</td>\n",
       "      <td>manual</td>\n",
       "      <td>expired</td>\n",
       "      <td>4.2</td>\n",
       "    </tr>\n",
       "    <tr>\n",
       "      <th>2228</th>\n",
       "      <td>maruticiazdelta1.5shvs</td>\n",
       "      <td>819210</td>\n",
       "      <td>38480</td>\n",
       "      <td>2018</td>\n",
       "      <td>first_owner</td>\n",
       "      <td>petrol</td>\n",
       "      <td>rj45</td>\n",
       "      <td>expired</td>\n",
       "      <td>4.5</td>\n",
       "    </tr>\n",
       "    <tr>\n",
       "      <th>2229</th>\n",
       "      <td>hyundaicreta1.6sx(o)</td>\n",
       "      <td>1031199</td>\n",
       "      <td>50518</td>\n",
       "      <td>2015</td>\n",
       "      <td>first_owner</td>\n",
       "      <td>diesel</td>\n",
       "      <td>ka04</td>\n",
       "      <td>NaN</td>\n",
       "      <td>4.4</td>\n",
       "    </tr>\n",
       "    <tr>\n",
       "      <th>2230</th>\n",
       "      <td>marutiignisdelta1.2</td>\n",
       "      <td>472499</td>\n",
       "      <td>9550</td>\n",
       "      <td>2017</td>\n",
       "      <td>first_owner</td>\n",
       "      <td>petrol</td>\n",
       "      <td>manual</td>\n",
       "      <td>26-04-2021</td>\n",
       "      <td>4.8</td>\n",
       "    </tr>\n",
       "    <tr>\n",
       "      <th>2231</th>\n",
       "      <td>marutivitarabrezzavdi</td>\n",
       "      <td>590999</td>\n",
       "      <td>68638</td>\n",
       "      <td>2016</td>\n",
       "      <td>first_owner</td>\n",
       "      <td>diesel</td>\n",
       "      <td>manual</td>\n",
       "      <td>09-05-2021</td>\n",
       "      <td>4.4</td>\n",
       "    </tr>\n",
       "    <tr>\n",
       "      <th>2232</th>\n",
       "      <td>marutiwagonr1.0</td>\n",
       "      <td>385999</td>\n",
       "      <td>45263</td>\n",
       "      <td>2015</td>\n",
       "      <td>second_owner</td>\n",
       "      <td>petrol</td>\n",
       "      <td>manual</td>\n",
       "      <td>10-06-2021</td>\n",
       "      <td>4.4</td>\n",
       "    </tr>\n",
       "    <tr>\n",
       "      <th>2233</th>\n",
       "      <td>marutiswift</td>\n",
       "      <td>324099</td>\n",
       "      <td>100335</td>\n",
       "      <td>2012</td>\n",
       "      <td>second_owner</td>\n",
       "      <td>petrol</td>\n",
       "      <td>manual</td>\n",
       "      <td>02-08-2021</td>\n",
       "      <td>4.3</td>\n",
       "    </tr>\n",
       "    <tr>\n",
       "      <th>2234</th>\n",
       "      <td>hyundaieond</td>\n",
       "      <td>212299</td>\n",
       "      <td>28016</td>\n",
       "      <td>2011</td>\n",
       "      <td>first_owner</td>\n",
       "      <td>petrol</td>\n",
       "      <td>manual</td>\n",
       "      <td>expired</td>\n",
       "      <td>3.2</td>\n",
       "    </tr>\n",
       "    <tr>\n",
       "      <th>2235</th>\n",
       "      <td>fordecosport1.5ambiente</td>\n",
       "      <td>378899</td>\n",
       "      <td>87947</td>\n",
       "      <td>2013</td>\n",
       "      <td>first_owner</td>\n",
       "      <td>diesel</td>\n",
       "      <td>manual</td>\n",
       "      <td>03-09-2021</td>\n",
       "      <td>4.2</td>\n",
       "    </tr>\n",
       "    <tr>\n",
       "      <th>2236</th>\n",
       "      <td>marutialtok10</td>\n",
       "      <td>304299</td>\n",
       "      <td>33639</td>\n",
       "      <td>2015</td>\n",
       "      <td>first_owner</td>\n",
       "      <td>petrol</td>\n",
       "      <td>manual</td>\n",
       "      <td>17-10-2021</td>\n",
       "      <td>4.1</td>\n",
       "    </tr>\n",
       "  </tbody>\n",
       "</table>\n",
       "</div>"
      ],
      "text/plain": [
       "                        model  selling_price  kilometers_driven  year  \\\n",
       "2227       toyotacorollaaltis         241899              83273  2009   \n",
       "2228   maruticiazdelta1.5shvs         819210              38480  2018   \n",
       "2229     hyundaicreta1.6sx(o)        1031199              50518  2015   \n",
       "2230      marutiignisdelta1.2         472499               9550  2017   \n",
       "2231    marutivitarabrezzavdi         590999              68638  2016   \n",
       "2232          marutiwagonr1.0         385999              45263  2015   \n",
       "2233              marutiswift         324099             100335  2012   \n",
       "2234              hyundaieond         212299              28016  2011   \n",
       "2235  fordecosport1.5ambiente         378899              87947  2013   \n",
       "2236            marutialtok10         304299              33639  2015   \n",
       "\n",
       "             owner     fuel_type transmission   insurance  car_condition  \n",
       "2227  second_owner  petrol_+_cng       manual     expired            4.2  \n",
       "2228   first_owner        petrol         rj45     expired            4.5  \n",
       "2229   first_owner        diesel         ka04         NaN            4.4  \n",
       "2230   first_owner        petrol       manual  26-04-2021            4.8  \n",
       "2231   first_owner        diesel       manual  09-05-2021            4.4  \n",
       "2232  second_owner        petrol       manual  10-06-2021            4.4  \n",
       "2233  second_owner        petrol       manual  02-08-2021            4.3  \n",
       "2234   first_owner        petrol       manual     expired            3.2  \n",
       "2235   first_owner        diesel       manual  03-09-2021            4.2  \n",
       "2236   first_owner        petrol       manual  17-10-2021            4.1  "
      ]
     },
     "execution_count": 93,
     "metadata": {},
     "output_type": "execute_result"
    }
   ],
   "source": [
    "df.iloc[len(df)-10:] # последние 10"
   ]
  },
  {
   "cell_type": "code",
   "execution_count": 78,
   "metadata": {},
   "outputs": [],
   "source": [
    "df_val = df.iloc[:n_val]"
   ]
  },
  {
   "cell_type": "code",
   "execution_count": 79,
   "metadata": {},
   "outputs": [
    {
     "data": {
      "text/plain": [
       "447"
      ]
     },
     "execution_count": 79,
     "metadata": {},
     "output_type": "execute_result"
    }
   ],
   "source": [
    "len(df_val)"
   ]
  },
  {
   "cell_type": "code",
   "execution_count": 80,
   "metadata": {},
   "outputs": [
    {
     "data": {
      "text/html": [
       "<div>\n",
       "<style scoped>\n",
       "    .dataframe tbody tr th:only-of-type {\n",
       "        vertical-align: middle;\n",
       "    }\n",
       "\n",
       "    .dataframe tbody tr th {\n",
       "        vertical-align: top;\n",
       "    }\n",
       "\n",
       "    .dataframe thead th {\n",
       "        text-align: right;\n",
       "    }\n",
       "</style>\n",
       "<table border=\"1\" class=\"dataframe\">\n",
       "  <thead>\n",
       "    <tr style=\"text-align: right;\">\n",
       "      <th></th>\n",
       "      <th>model</th>\n",
       "      <th>selling_price</th>\n",
       "      <th>kilometers_driven</th>\n",
       "      <th>year</th>\n",
       "      <th>owner</th>\n",
       "      <th>fuel_type</th>\n",
       "      <th>transmission</th>\n",
       "      <th>insurance</th>\n",
       "      <th>car_condition</th>\n",
       "    </tr>\n",
       "  </thead>\n",
       "  <tbody>\n",
       "    <tr>\n",
       "      <th>0</th>\n",
       "      <td>marutiwagonr1.0lxi</td>\n",
       "      <td>312165</td>\n",
       "      <td>82238</td>\n",
       "      <td>2014</td>\n",
       "      <td>first_owner</td>\n",
       "      <td>petrol_+_cng</td>\n",
       "      <td>manual</td>\n",
       "      <td>expired</td>\n",
       "      <td>4.2</td>\n",
       "    </tr>\n",
       "    <tr>\n",
       "      <th>1</th>\n",
       "      <td>toyotaetiosliva</td>\n",
       "      <td>313799</td>\n",
       "      <td>30558</td>\n",
       "      <td>2013</td>\n",
       "      <td>first_owner</td>\n",
       "      <td>petrol</td>\n",
       "      <td>manual</td>\n",
       "      <td>12-09-2021</td>\n",
       "      <td>4.4</td>\n",
       "    </tr>\n",
       "    <tr>\n",
       "      <th>2</th>\n",
       "      <td>marutialto800</td>\n",
       "      <td>295999</td>\n",
       "      <td>22164</td>\n",
       "      <td>2018</td>\n",
       "      <td>first_owner</td>\n",
       "      <td>petrol</td>\n",
       "      <td>manual</td>\n",
       "      <td>01-12-2020</td>\n",
       "      <td>4.8</td>\n",
       "    </tr>\n",
       "    <tr>\n",
       "      <th>3</th>\n",
       "      <td>marutiswift</td>\n",
       "      <td>435199</td>\n",
       "      <td>30535</td>\n",
       "      <td>2013</td>\n",
       "      <td>first_owner</td>\n",
       "      <td>diesel</td>\n",
       "      <td>manual</td>\n",
       "      <td>comp</td>\n",
       "      <td>4.3</td>\n",
       "    </tr>\n",
       "    <tr>\n",
       "      <th>4</th>\n",
       "      <td>marutiwagonr1.0</td>\n",
       "      <td>289099</td>\n",
       "      <td>15738</td>\n",
       "      <td>2013</td>\n",
       "      <td>first_owner</td>\n",
       "      <td>petrol</td>\n",
       "      <td>manual</td>\n",
       "      <td>11-08-2021</td>\n",
       "      <td>4.3</td>\n",
       "    </tr>\n",
       "    <tr>\n",
       "      <th>...</th>\n",
       "      <td>...</td>\n",
       "      <td>...</td>\n",
       "      <td>...</td>\n",
       "      <td>...</td>\n",
       "      <td>...</td>\n",
       "      <td>...</td>\n",
       "      <td>...</td>\n",
       "      <td>...</td>\n",
       "      <td>...</td>\n",
       "    </tr>\n",
       "    <tr>\n",
       "      <th>442</th>\n",
       "      <td>marutiwagonr1.0</td>\n",
       "      <td>408399</td>\n",
       "      <td>31796</td>\n",
       "      <td>2015</td>\n",
       "      <td>first_owner</td>\n",
       "      <td>petrol</td>\n",
       "      <td>manual</td>\n",
       "      <td>23-09-2021</td>\n",
       "      <td>4.3</td>\n",
       "    </tr>\n",
       "    <tr>\n",
       "      <th>443</th>\n",
       "      <td>hondacitysmt</td>\n",
       "      <td>398999</td>\n",
       "      <td>75713</td>\n",
       "      <td>2010</td>\n",
       "      <td>second_owner</td>\n",
       "      <td>petrol_+_cng</td>\n",
       "      <td>manual</td>\n",
       "      <td>19-10-2021</td>\n",
       "      <td>4.3</td>\n",
       "    </tr>\n",
       "    <tr>\n",
       "      <th>444</th>\n",
       "      <td>hondaamaze1.2smti</td>\n",
       "      <td>552899</td>\n",
       "      <td>14358</td>\n",
       "      <td>2018</td>\n",
       "      <td>first_owner</td>\n",
       "      <td>petrol</td>\n",
       "      <td>manual</td>\n",
       "      <td>expired</td>\n",
       "      <td>4.6</td>\n",
       "    </tr>\n",
       "    <tr>\n",
       "      <th>445</th>\n",
       "      <td>hyundaigrandi10magna1.2kappa</td>\n",
       "      <td>480699</td>\n",
       "      <td>10172</td>\n",
       "      <td>2017</td>\n",
       "      <td>first_owner</td>\n",
       "      <td>petrol</td>\n",
       "      <td>manual</td>\n",
       "      <td>15-07-2021</td>\n",
       "      <td>4.8</td>\n",
       "    </tr>\n",
       "    <tr>\n",
       "      <th>446</th>\n",
       "      <td>fiatgrandpuntoactive</td>\n",
       "      <td>291099</td>\n",
       "      <td>46437</td>\n",
       "      <td>2014</td>\n",
       "      <td>second_owner</td>\n",
       "      <td>diesel</td>\n",
       "      <td>manual</td>\n",
       "      <td>30-08-2021</td>\n",
       "      <td>4.2</td>\n",
       "    </tr>\n",
       "  </tbody>\n",
       "</table>\n",
       "<p>447 rows × 9 columns</p>\n",
       "</div>"
      ],
      "text/plain": [
       "                            model  selling_price  kilometers_driven  year  \\\n",
       "0              marutiwagonr1.0lxi         312165              82238  2014   \n",
       "1                 toyotaetiosliva         313799              30558  2013   \n",
       "2                   marutialto800         295999              22164  2018   \n",
       "3                     marutiswift         435199              30535  2013   \n",
       "4                 marutiwagonr1.0         289099              15738  2013   \n",
       "..                            ...            ...                ...   ...   \n",
       "442               marutiwagonr1.0         408399              31796  2015   \n",
       "443                  hondacitysmt         398999              75713  2010   \n",
       "444             hondaamaze1.2smti         552899              14358  2018   \n",
       "445  hyundaigrandi10magna1.2kappa         480699              10172  2017   \n",
       "446          fiatgrandpuntoactive         291099              46437  2014   \n",
       "\n",
       "            owner     fuel_type transmission   insurance  car_condition  \n",
       "0     first_owner  petrol_+_cng       manual     expired            4.2  \n",
       "1     first_owner        petrol       manual  12-09-2021            4.4  \n",
       "2     first_owner        petrol       manual  01-12-2020            4.8  \n",
       "3     first_owner        diesel       manual        comp            4.3  \n",
       "4     first_owner        petrol       manual  11-08-2021            4.3  \n",
       "..            ...           ...          ...         ...            ...  \n",
       "442   first_owner        petrol       manual  23-09-2021            4.3  \n",
       "443  second_owner  petrol_+_cng       manual  19-10-2021            4.3  \n",
       "444   first_owner        petrol       manual     expired            4.6  \n",
       "445   first_owner        petrol       manual  15-07-2021            4.8  \n",
       "446  second_owner        diesel       manual  30-08-2021            4.2  \n",
       "\n",
       "[447 rows x 9 columns]"
      ]
     },
     "execution_count": 80,
     "metadata": {},
     "output_type": "execute_result"
    }
   ],
   "source": [
    "df_val"
   ]
  },
  {
   "cell_type": "code",
   "execution_count": 81,
   "metadata": {},
   "outputs": [],
   "source": [
    "df_val = df.iloc[:n_val]\n",
    "df_test = df.iloc[n_val: n_val+n_test]\n",
    "df_train = df.iloc[n_val+n_test:] # данные сгруппированы и нам нужно их перемешать"
   ]
  },
  {
   "cell_type": "code",
   "execution_count": 82,
   "metadata": {},
   "outputs": [
    {
     "data": {
      "text/plain": [
       "(447, 448, 1342)"
      ]
     },
     "execution_count": 82,
     "metadata": {},
     "output_type": "execute_result"
    }
   ],
   "source": [
    "len(df_val), len(df_test), len(df_train)"
   ]
  },
  {
   "cell_type": "code",
   "execution_count": 83,
   "metadata": {},
   "outputs": [
    {
     "data": {
      "text/plain": [
       "(447, 448, 1342)"
      ]
     },
     "execution_count": 83,
     "metadata": {},
     "output_type": "execute_result"
    }
   ],
   "source": [
    "n_val, n_test, n_train"
   ]
  },
  {
   "cell_type": "code",
   "execution_count": 84,
   "metadata": {},
   "outputs": [],
   "source": [
    "idx = np.arange(n) # хотим их перемешать"
   ]
  },
  {
   "cell_type": "code",
   "execution_count": 85,
   "metadata": {},
   "outputs": [
    {
     "data": {
      "text/plain": [
       "array([   0,    1,    2, ..., 2234, 2235, 2236])"
      ]
     },
     "execution_count": 85,
     "metadata": {},
     "output_type": "execute_result"
    }
   ],
   "source": [
    "idx"
   ]
  },
  {
   "cell_type": "code",
   "execution_count": 86,
   "metadata": {},
   "outputs": [],
   "source": [
    "np.random.seed(2) # чтобы результаты были воспроизводимы\n",
    "np.random.shuffle(idx)"
   ]
  },
  {
   "cell_type": "code",
   "execution_count": 87,
   "metadata": {},
   "outputs": [
    {
     "data": {
      "text/plain": [
       "array([  60, 1266,  794, ...,  674, 1099, 1608])"
      ]
     },
     "execution_count": 87,
     "metadata": {},
     "output_type": "execute_result"
    }
   ],
   "source": [
    "idx"
   ]
  },
  {
   "cell_type": "code",
   "execution_count": 88,
   "metadata": {},
   "outputs": [
    {
     "data": {
      "text/plain": [
       "447"
      ]
     },
     "execution_count": 88,
     "metadata": {},
     "output_type": "execute_result"
    }
   ],
   "source": [
    "len(df.iloc[idx[:n_val]])"
   ]
  },
  {
   "cell_type": "code",
   "execution_count": 89,
   "metadata": {},
   "outputs": [
    {
     "data": {
      "text/html": [
       "<div>\n",
       "<style scoped>\n",
       "    .dataframe tbody tr th:only-of-type {\n",
       "        vertical-align: middle;\n",
       "    }\n",
       "\n",
       "    .dataframe tbody tr th {\n",
       "        vertical-align: top;\n",
       "    }\n",
       "\n",
       "    .dataframe thead th {\n",
       "        text-align: right;\n",
       "    }\n",
       "</style>\n",
       "<table border=\"1\" class=\"dataframe\">\n",
       "  <thead>\n",
       "    <tr style=\"text-align: right;\">\n",
       "      <th></th>\n",
       "      <th>model</th>\n",
       "      <th>selling_price</th>\n",
       "      <th>kilometers_driven</th>\n",
       "      <th>year</th>\n",
       "      <th>owner</th>\n",
       "      <th>fuel_type</th>\n",
       "      <th>transmission</th>\n",
       "      <th>insurance</th>\n",
       "      <th>car_condition</th>\n",
       "    </tr>\n",
       "  </thead>\n",
       "  <tbody>\n",
       "    <tr>\n",
       "      <th>60</th>\n",
       "      <td>toyotacorollaaltis</td>\n",
       "      <td>671199</td>\n",
       "      <td>52544</td>\n",
       "      <td>2014</td>\n",
       "      <td>second_owner</td>\n",
       "      <td>petrol</td>\n",
       "      <td>manual</td>\n",
       "      <td>07-08-2021</td>\n",
       "      <td>4.3</td>\n",
       "    </tr>\n",
       "    <tr>\n",
       "      <th>1266</th>\n",
       "      <td>hyundaii20sportz1.2</td>\n",
       "      <td>384799</td>\n",
       "      <td>61842</td>\n",
       "      <td>2013</td>\n",
       "      <td>first_owner</td>\n",
       "      <td>petrol</td>\n",
       "      <td>manual</td>\n",
       "      <td>09-08-2021</td>\n",
       "      <td>4.3</td>\n",
       "    </tr>\n",
       "    <tr>\n",
       "      <th>794</th>\n",
       "      <td>marutiswift</td>\n",
       "      <td>434299</td>\n",
       "      <td>14864</td>\n",
       "      <td>2015</td>\n",
       "      <td>first_owner</td>\n",
       "      <td>petrol</td>\n",
       "      <td>manual</td>\n",
       "      <td>09-05-2021</td>\n",
       "      <td>4.4</td>\n",
       "    </tr>\n",
       "    <tr>\n",
       "      <th>1550</th>\n",
       "      <td>marutialto800</td>\n",
       "      <td>261499</td>\n",
       "      <td>57525</td>\n",
       "      <td>2013</td>\n",
       "      <td>first_owner</td>\n",
       "      <td>petrol</td>\n",
       "      <td>manual</td>\n",
       "      <td>28-03-2021</td>\n",
       "      <td>4.3</td>\n",
       "    </tr>\n",
       "    <tr>\n",
       "      <th>810</th>\n",
       "      <td>marutivitarabrezzavdi</td>\n",
       "      <td>575799</td>\n",
       "      <td>62646</td>\n",
       "      <td>2016</td>\n",
       "      <td>first_owner</td>\n",
       "      <td>diesel</td>\n",
       "      <td>manual</td>\n",
       "      <td>14-07-2021</td>\n",
       "      <td>4.5</td>\n",
       "    </tr>\n",
       "    <tr>\n",
       "      <th>...</th>\n",
       "      <td>...</td>\n",
       "      <td>...</td>\n",
       "      <td>...</td>\n",
       "      <td>...</td>\n",
       "      <td>...</td>\n",
       "      <td>...</td>\n",
       "      <td>...</td>\n",
       "      <td>...</td>\n",
       "      <td>...</td>\n",
       "    </tr>\n",
       "    <tr>\n",
       "      <th>1632</th>\n",
       "      <td>hyundaigrandi10sportz1.2kappa</td>\n",
       "      <td>395599</td>\n",
       "      <td>53063</td>\n",
       "      <td>2016</td>\n",
       "      <td>first_owner</td>\n",
       "      <td>petrol</td>\n",
       "      <td>manual</td>\n",
       "      <td>09-10-2021</td>\n",
       "      <td>4.4</td>\n",
       "    </tr>\n",
       "    <tr>\n",
       "      <th>448</th>\n",
       "      <td>hondaamaze1.5emti</td>\n",
       "      <td>409299</td>\n",
       "      <td>123934</td>\n",
       "      <td>2015</td>\n",
       "      <td>second_owner</td>\n",
       "      <td>diesel</td>\n",
       "      <td>manual</td>\n",
       "      <td>31-01-2021</td>\n",
       "      <td>4.3</td>\n",
       "    </tr>\n",
       "    <tr>\n",
       "      <th>336</th>\n",
       "      <td>marutiswiftdzirevdibs</td>\n",
       "      <td>352499</td>\n",
       "      <td>46299</td>\n",
       "      <td>2012</td>\n",
       "      <td>first_owner</td>\n",
       "      <td>diesel</td>\n",
       "      <td>manual</td>\n",
       "      <td>18-11-2021</td>\n",
       "      <td>4.2</td>\n",
       "    </tr>\n",
       "    <tr>\n",
       "      <th>1823</th>\n",
       "      <td>marutibalenoalpha1.2</td>\n",
       "      <td>772699</td>\n",
       "      <td>23424</td>\n",
       "      <td>2019</td>\n",
       "      <td>first_owner</td>\n",
       "      <td>petrol</td>\n",
       "      <td>manual</td>\n",
       "      <td>21-08-2022</td>\n",
       "      <td>4.9</td>\n",
       "    </tr>\n",
       "    <tr>\n",
       "      <th>404</th>\n",
       "      <td>renaultduster85ps</td>\n",
       "      <td>322068</td>\n",
       "      <td>103665</td>\n",
       "      <td>2013</td>\n",
       "      <td>first_owner</td>\n",
       "      <td>diesel</td>\n",
       "      <td>manual</td>\n",
       "      <td>09-10-2021</td>\n",
       "      <td>4.4</td>\n",
       "    </tr>\n",
       "  </tbody>\n",
       "</table>\n",
       "<p>447 rows × 9 columns</p>\n",
       "</div>"
      ],
      "text/plain": [
       "                              model  selling_price  kilometers_driven  year  \\\n",
       "60               toyotacorollaaltis         671199              52544  2014   \n",
       "1266            hyundaii20sportz1.2         384799              61842  2013   \n",
       "794                     marutiswift         434299              14864  2015   \n",
       "1550                  marutialto800         261499              57525  2013   \n",
       "810           marutivitarabrezzavdi         575799              62646  2016   \n",
       "...                             ...            ...                ...   ...   \n",
       "1632  hyundaigrandi10sportz1.2kappa         395599              53063  2016   \n",
       "448               hondaamaze1.5emti         409299             123934  2015   \n",
       "336           marutiswiftdzirevdibs         352499              46299  2012   \n",
       "1823           marutibalenoalpha1.2         772699              23424  2019   \n",
       "404               renaultduster85ps         322068             103665  2013   \n",
       "\n",
       "             owner fuel_type transmission   insurance  car_condition  \n",
       "60    second_owner    petrol       manual  07-08-2021            4.3  \n",
       "1266   first_owner    petrol       manual  09-08-2021            4.3  \n",
       "794    first_owner    petrol       manual  09-05-2021            4.4  \n",
       "1550   first_owner    petrol       manual  28-03-2021            4.3  \n",
       "810    first_owner    diesel       manual  14-07-2021            4.5  \n",
       "...            ...       ...          ...         ...            ...  \n",
       "1632   first_owner    petrol       manual  09-10-2021            4.4  \n",
       "448   second_owner    diesel       manual  31-01-2021            4.3  \n",
       "336    first_owner    diesel       manual  18-11-2021            4.2  \n",
       "1823   first_owner    petrol       manual  21-08-2022            4.9  \n",
       "404    first_owner    diesel       manual  09-10-2021            4.4  \n",
       "\n",
       "[447 rows x 9 columns]"
      ]
     },
     "execution_count": 89,
     "metadata": {},
     "output_type": "execute_result"
    }
   ],
   "source": [
    "df.iloc[idx[:n_val]]"
   ]
  },
  {
   "cell_type": "code",
   "execution_count": 90,
   "metadata": {},
   "outputs": [],
   "source": [
    "df_train = df.iloc[idx[:n_train]]\n",
    "df_val = df.iloc[idx[n_train:n_train+n_val]]\n",
    "df_test = df.iloc[idx[n_train+n_val:]]"
   ]
  },
  {
   "cell_type": "code",
   "execution_count": 91,
   "metadata": {},
   "outputs": [
    {
     "data": {
      "text/html": [
       "<div>\n",
       "<style scoped>\n",
       "    .dataframe tbody tr th:only-of-type {\n",
       "        vertical-align: middle;\n",
       "    }\n",
       "\n",
       "    .dataframe tbody tr th {\n",
       "        vertical-align: top;\n",
       "    }\n",
       "\n",
       "    .dataframe thead th {\n",
       "        text-align: right;\n",
       "    }\n",
       "</style>\n",
       "<table border=\"1\" class=\"dataframe\">\n",
       "  <thead>\n",
       "    <tr style=\"text-align: right;\">\n",
       "      <th></th>\n",
       "      <th>model</th>\n",
       "      <th>selling_price</th>\n",
       "      <th>kilometers_driven</th>\n",
       "      <th>year</th>\n",
       "      <th>owner</th>\n",
       "      <th>fuel_type</th>\n",
       "      <th>transmission</th>\n",
       "      <th>insurance</th>\n",
       "      <th>car_condition</th>\n",
       "    </tr>\n",
       "  </thead>\n",
       "  <tbody>\n",
       "    <tr>\n",
       "      <th>60</th>\n",
       "      <td>toyotacorollaaltis</td>\n",
       "      <td>671199</td>\n",
       "      <td>52544</td>\n",
       "      <td>2014</td>\n",
       "      <td>second_owner</td>\n",
       "      <td>petrol</td>\n",
       "      <td>manual</td>\n",
       "      <td>07-08-2021</td>\n",
       "      <td>4.3</td>\n",
       "    </tr>\n",
       "    <tr>\n",
       "      <th>1266</th>\n",
       "      <td>hyundaii20sportz1.2</td>\n",
       "      <td>384799</td>\n",
       "      <td>61842</td>\n",
       "      <td>2013</td>\n",
       "      <td>first_owner</td>\n",
       "      <td>petrol</td>\n",
       "      <td>manual</td>\n",
       "      <td>09-08-2021</td>\n",
       "      <td>4.3</td>\n",
       "    </tr>\n",
       "    <tr>\n",
       "      <th>794</th>\n",
       "      <td>marutiswift</td>\n",
       "      <td>434299</td>\n",
       "      <td>14864</td>\n",
       "      <td>2015</td>\n",
       "      <td>first_owner</td>\n",
       "      <td>petrol</td>\n",
       "      <td>manual</td>\n",
       "      <td>09-05-2021</td>\n",
       "      <td>4.4</td>\n",
       "    </tr>\n",
       "    <tr>\n",
       "      <th>1550</th>\n",
       "      <td>marutialto800</td>\n",
       "      <td>261499</td>\n",
       "      <td>57525</td>\n",
       "      <td>2013</td>\n",
       "      <td>first_owner</td>\n",
       "      <td>petrol</td>\n",
       "      <td>manual</td>\n",
       "      <td>28-03-2021</td>\n",
       "      <td>4.3</td>\n",
       "    </tr>\n",
       "    <tr>\n",
       "      <th>810</th>\n",
       "      <td>marutivitarabrezzavdi</td>\n",
       "      <td>575799</td>\n",
       "      <td>62646</td>\n",
       "      <td>2016</td>\n",
       "      <td>first_owner</td>\n",
       "      <td>diesel</td>\n",
       "      <td>manual</td>\n",
       "      <td>14-07-2021</td>\n",
       "      <td>4.5</td>\n",
       "    </tr>\n",
       "    <tr>\n",
       "      <th>1082</th>\n",
       "      <td>skodasuperbelegance1.8tsi</td>\n",
       "      <td>351799</td>\n",
       "      <td>76434</td>\n",
       "      <td>2012</td>\n",
       "      <td>second_owner</td>\n",
       "      <td>petrol</td>\n",
       "      <td>manual</td>\n",
       "      <td>expired</td>\n",
       "      <td>3.9</td>\n",
       "    </tr>\n",
       "    <tr>\n",
       "      <th>1413</th>\n",
       "      <td>marutiertiga</td>\n",
       "      <td>408199</td>\n",
       "      <td>83719</td>\n",
       "      <td>2012</td>\n",
       "      <td>first_owner</td>\n",
       "      <td>diesel</td>\n",
       "      <td>manual</td>\n",
       "      <td>30-10-2021</td>\n",
       "      <td>4.3</td>\n",
       "    </tr>\n",
       "    <tr>\n",
       "      <th>1943</th>\n",
       "      <td>marutiritz</td>\n",
       "      <td>335999</td>\n",
       "      <td>67560</td>\n",
       "      <td>2010</td>\n",
       "      <td>second_owner</td>\n",
       "      <td>petrol</td>\n",
       "      <td>manual</td>\n",
       "      <td>expired</td>\n",
       "      <td>4.1</td>\n",
       "    </tr>\n",
       "    <tr>\n",
       "      <th>1436</th>\n",
       "      <td>marutizenestilo</td>\n",
       "      <td>183399</td>\n",
       "      <td>71023</td>\n",
       "      <td>2008</td>\n",
       "      <td>second_owner</td>\n",
       "      <td>petrol</td>\n",
       "      <td>manual</td>\n",
       "      <td>24-05-2021</td>\n",
       "      <td>4.1</td>\n",
       "    </tr>\n",
       "    <tr>\n",
       "      <th>1962</th>\n",
       "      <td>marutiswift</td>\n",
       "      <td>338699</td>\n",
       "      <td>81690</td>\n",
       "      <td>2013</td>\n",
       "      <td>first_owner</td>\n",
       "      <td>petrol</td>\n",
       "      <td>manual</td>\n",
       "      <td>13-05-2021</td>\n",
       "      <td>4.0</td>\n",
       "    </tr>\n",
       "  </tbody>\n",
       "</table>\n",
       "</div>"
      ],
      "text/plain": [
       "                          model  selling_price  kilometers_driven  year  \\\n",
       "60           toyotacorollaaltis         671199              52544  2014   \n",
       "1266        hyundaii20sportz1.2         384799              61842  2013   \n",
       "794                 marutiswift         434299              14864  2015   \n",
       "1550              marutialto800         261499              57525  2013   \n",
       "810       marutivitarabrezzavdi         575799              62646  2016   \n",
       "1082  skodasuperbelegance1.8tsi         351799              76434  2012   \n",
       "1413               marutiertiga         408199              83719  2012   \n",
       "1943                 marutiritz         335999              67560  2010   \n",
       "1436            marutizenestilo         183399              71023  2008   \n",
       "1962                marutiswift         338699              81690  2013   \n",
       "\n",
       "             owner fuel_type transmission   insurance  car_condition  \n",
       "60    second_owner    petrol       manual  07-08-2021            4.3  \n",
       "1266   first_owner    petrol       manual  09-08-2021            4.3  \n",
       "794    first_owner    petrol       manual  09-05-2021            4.4  \n",
       "1550   first_owner    petrol       manual  28-03-2021            4.3  \n",
       "810    first_owner    diesel       manual  14-07-2021            4.5  \n",
       "1082  second_owner    petrol       manual     expired            3.9  \n",
       "1413   first_owner    diesel       manual  30-10-2021            4.3  \n",
       "1943  second_owner    petrol       manual     expired            4.1  \n",
       "1436  second_owner    petrol       manual  24-05-2021            4.1  \n",
       "1962   first_owner    petrol       manual  13-05-2021            4.0  "
      ]
     },
     "execution_count": 91,
     "metadata": {},
     "output_type": "execute_result"
    }
   ],
   "source": [
    "df_train.iloc[:10]"
   ]
  },
  {
   "cell_type": "code",
   "execution_count": 92,
   "metadata": {},
   "outputs": [
    {
     "data": {
      "text/plain": [
       "(1342, 447, 448)"
      ]
     },
     "execution_count": 92,
     "metadata": {},
     "output_type": "execute_result"
    }
   ],
   "source": [
    "len(df_train), len(df_val), len(df_test)"
   ]
  },
  {
   "cell_type": "code",
   "execution_count": 93,
   "metadata": {},
   "outputs": [
    {
     "data": {
      "text/html": [
       "<div>\n",
       "<style scoped>\n",
       "    .dataframe tbody tr th:only-of-type {\n",
       "        vertical-align: middle;\n",
       "    }\n",
       "\n",
       "    .dataframe tbody tr th {\n",
       "        vertical-align: top;\n",
       "    }\n",
       "\n",
       "    .dataframe thead th {\n",
       "        text-align: right;\n",
       "    }\n",
       "</style>\n",
       "<table border=\"1\" class=\"dataframe\">\n",
       "  <thead>\n",
       "    <tr style=\"text-align: right;\">\n",
       "      <th></th>\n",
       "      <th>model</th>\n",
       "      <th>selling_price</th>\n",
       "      <th>kilometers_driven</th>\n",
       "      <th>year</th>\n",
       "      <th>owner</th>\n",
       "      <th>fuel_type</th>\n",
       "      <th>transmission</th>\n",
       "      <th>insurance</th>\n",
       "      <th>car_condition</th>\n",
       "    </tr>\n",
       "  </thead>\n",
       "  <tbody>\n",
       "    <tr>\n",
       "      <th>60</th>\n",
       "      <td>toyotacorollaaltis</td>\n",
       "      <td>671199</td>\n",
       "      <td>52544</td>\n",
       "      <td>2014</td>\n",
       "      <td>second_owner</td>\n",
       "      <td>petrol</td>\n",
       "      <td>manual</td>\n",
       "      <td>07-08-2021</td>\n",
       "      <td>4.3</td>\n",
       "    </tr>\n",
       "    <tr>\n",
       "      <th>1266</th>\n",
       "      <td>hyundaii20sportz1.2</td>\n",
       "      <td>384799</td>\n",
       "      <td>61842</td>\n",
       "      <td>2013</td>\n",
       "      <td>first_owner</td>\n",
       "      <td>petrol</td>\n",
       "      <td>manual</td>\n",
       "      <td>09-08-2021</td>\n",
       "      <td>4.3</td>\n",
       "    </tr>\n",
       "    <tr>\n",
       "      <th>794</th>\n",
       "      <td>marutiswift</td>\n",
       "      <td>434299</td>\n",
       "      <td>14864</td>\n",
       "      <td>2015</td>\n",
       "      <td>first_owner</td>\n",
       "      <td>petrol</td>\n",
       "      <td>manual</td>\n",
       "      <td>09-05-2021</td>\n",
       "      <td>4.4</td>\n",
       "    </tr>\n",
       "    <tr>\n",
       "      <th>1550</th>\n",
       "      <td>marutialto800</td>\n",
       "      <td>261499</td>\n",
       "      <td>57525</td>\n",
       "      <td>2013</td>\n",
       "      <td>first_owner</td>\n",
       "      <td>petrol</td>\n",
       "      <td>manual</td>\n",
       "      <td>28-03-2021</td>\n",
       "      <td>4.3</td>\n",
       "    </tr>\n",
       "    <tr>\n",
       "      <th>810</th>\n",
       "      <td>marutivitarabrezzavdi</td>\n",
       "      <td>575799</td>\n",
       "      <td>62646</td>\n",
       "      <td>2016</td>\n",
       "      <td>first_owner</td>\n",
       "      <td>diesel</td>\n",
       "      <td>manual</td>\n",
       "      <td>14-07-2021</td>\n",
       "      <td>4.5</td>\n",
       "    </tr>\n",
       "    <tr>\n",
       "      <th>...</th>\n",
       "      <td>...</td>\n",
       "      <td>...</td>\n",
       "      <td>...</td>\n",
       "      <td>...</td>\n",
       "      <td>...</td>\n",
       "      <td>...</td>\n",
       "      <td>...</td>\n",
       "      <td>...</td>\n",
       "      <td>...</td>\n",
       "    </tr>\n",
       "    <tr>\n",
       "      <th>1657</th>\n",
       "      <td>marutialto</td>\n",
       "      <td>153399</td>\n",
       "      <td>59696</td>\n",
       "      <td>2009</td>\n",
       "      <td>first_owner</td>\n",
       "      <td>petrol</td>\n",
       "      <td>manual</td>\n",
       "      <td>26-02-2021</td>\n",
       "      <td>4.3</td>\n",
       "    </tr>\n",
       "    <tr>\n",
       "      <th>931</th>\n",
       "      <td>mahindraxuv500w11</td>\n",
       "      <td>1603499</td>\n",
       "      <td>16286</td>\n",
       "      <td>2018</td>\n",
       "      <td>first_owner</td>\n",
       "      <td>diesel</td>\n",
       "      <td>mh03</td>\n",
       "      <td>zero_dep</td>\n",
       "      <td>4.7</td>\n",
       "    </tr>\n",
       "    <tr>\n",
       "      <th>2217</th>\n",
       "      <td>marutialto800</td>\n",
       "      <td>339799</td>\n",
       "      <td>20321</td>\n",
       "      <td>2019</td>\n",
       "      <td>first_owner</td>\n",
       "      <td>petrol</td>\n",
       "      <td>manual</td>\n",
       "      <td>23-04-2022</td>\n",
       "      <td>4.6</td>\n",
       "    </tr>\n",
       "    <tr>\n",
       "      <th>518</th>\n",
       "      <td>hyundaielitei20asta1.2</td>\n",
       "      <td>585299</td>\n",
       "      <td>18711</td>\n",
       "      <td>2017</td>\n",
       "      <td>second_owner</td>\n",
       "      <td>petrol</td>\n",
       "      <td>manual</td>\n",
       "      <td>expired</td>\n",
       "      <td>4.5</td>\n",
       "    </tr>\n",
       "    <tr>\n",
       "      <th>689</th>\n",
       "      <td>maruticelerio</td>\n",
       "      <td>269399</td>\n",
       "      <td>25807</td>\n",
       "      <td>2014</td>\n",
       "      <td>first_owner</td>\n",
       "      <td>petrol</td>\n",
       "      <td>manual</td>\n",
       "      <td>03-11-2021</td>\n",
       "      <td>4.0</td>\n",
       "    </tr>\n",
       "  </tbody>\n",
       "</table>\n",
       "<p>1342 rows × 9 columns</p>\n",
       "</div>"
      ],
      "text/plain": [
       "                       model  selling_price  kilometers_driven  year  \\\n",
       "60        toyotacorollaaltis         671199              52544  2014   \n",
       "1266     hyundaii20sportz1.2         384799              61842  2013   \n",
       "794              marutiswift         434299              14864  2015   \n",
       "1550           marutialto800         261499              57525  2013   \n",
       "810    marutivitarabrezzavdi         575799              62646  2016   \n",
       "...                      ...            ...                ...   ...   \n",
       "1657              marutialto         153399              59696  2009   \n",
       "931        mahindraxuv500w11        1603499              16286  2018   \n",
       "2217           marutialto800         339799              20321  2019   \n",
       "518   hyundaielitei20asta1.2         585299              18711  2017   \n",
       "689            maruticelerio         269399              25807  2014   \n",
       "\n",
       "             owner fuel_type transmission   insurance  car_condition  \n",
       "60    second_owner    petrol       manual  07-08-2021            4.3  \n",
       "1266   first_owner    petrol       manual  09-08-2021            4.3  \n",
       "794    first_owner    petrol       manual  09-05-2021            4.4  \n",
       "1550   first_owner    petrol       manual  28-03-2021            4.3  \n",
       "810    first_owner    diesel       manual  14-07-2021            4.5  \n",
       "...            ...       ...          ...         ...            ...  \n",
       "1657   first_owner    petrol       manual  26-02-2021            4.3  \n",
       "931    first_owner    diesel         mh03    zero_dep            4.7  \n",
       "2217   first_owner    petrol       manual  23-04-2022            4.6  \n",
       "518   second_owner    petrol       manual     expired            4.5  \n",
       "689    first_owner    petrol       manual  03-11-2021            4.0  \n",
       "\n",
       "[1342 rows x 9 columns]"
      ]
     },
     "execution_count": 93,
     "metadata": {},
     "output_type": "execute_result"
    }
   ],
   "source": [
    "df_train # видим оригинальные индексы"
   ]
  },
  {
   "cell_type": "code",
   "execution_count": 94,
   "metadata": {},
   "outputs": [
    {
     "data": {
      "text/html": [
       "<div>\n",
       "<style scoped>\n",
       "    .dataframe tbody tr th:only-of-type {\n",
       "        vertical-align: middle;\n",
       "    }\n",
       "\n",
       "    .dataframe tbody tr th {\n",
       "        vertical-align: top;\n",
       "    }\n",
       "\n",
       "    .dataframe thead th {\n",
       "        text-align: right;\n",
       "    }\n",
       "</style>\n",
       "<table border=\"1\" class=\"dataframe\">\n",
       "  <thead>\n",
       "    <tr style=\"text-align: right;\">\n",
       "      <th></th>\n",
       "      <th>model</th>\n",
       "      <th>selling_price</th>\n",
       "      <th>kilometers_driven</th>\n",
       "      <th>year</th>\n",
       "      <th>owner</th>\n",
       "      <th>fuel_type</th>\n",
       "      <th>transmission</th>\n",
       "      <th>insurance</th>\n",
       "      <th>car_condition</th>\n",
       "    </tr>\n",
       "  </thead>\n",
       "  <tbody>\n",
       "    <tr>\n",
       "      <th>0</th>\n",
       "      <td>toyotacorollaaltis</td>\n",
       "      <td>671199</td>\n",
       "      <td>52544</td>\n",
       "      <td>2014</td>\n",
       "      <td>second_owner</td>\n",
       "      <td>petrol</td>\n",
       "      <td>manual</td>\n",
       "      <td>07-08-2021</td>\n",
       "      <td>4.3</td>\n",
       "    </tr>\n",
       "    <tr>\n",
       "      <th>1</th>\n",
       "      <td>hyundaii20sportz1.2</td>\n",
       "      <td>384799</td>\n",
       "      <td>61842</td>\n",
       "      <td>2013</td>\n",
       "      <td>first_owner</td>\n",
       "      <td>petrol</td>\n",
       "      <td>manual</td>\n",
       "      <td>09-08-2021</td>\n",
       "      <td>4.3</td>\n",
       "    </tr>\n",
       "    <tr>\n",
       "      <th>2</th>\n",
       "      <td>marutiswift</td>\n",
       "      <td>434299</td>\n",
       "      <td>14864</td>\n",
       "      <td>2015</td>\n",
       "      <td>first_owner</td>\n",
       "      <td>petrol</td>\n",
       "      <td>manual</td>\n",
       "      <td>09-05-2021</td>\n",
       "      <td>4.4</td>\n",
       "    </tr>\n",
       "    <tr>\n",
       "      <th>3</th>\n",
       "      <td>marutialto800</td>\n",
       "      <td>261499</td>\n",
       "      <td>57525</td>\n",
       "      <td>2013</td>\n",
       "      <td>first_owner</td>\n",
       "      <td>petrol</td>\n",
       "      <td>manual</td>\n",
       "      <td>28-03-2021</td>\n",
       "      <td>4.3</td>\n",
       "    </tr>\n",
       "    <tr>\n",
       "      <th>4</th>\n",
       "      <td>marutivitarabrezzavdi</td>\n",
       "      <td>575799</td>\n",
       "      <td>62646</td>\n",
       "      <td>2016</td>\n",
       "      <td>first_owner</td>\n",
       "      <td>diesel</td>\n",
       "      <td>manual</td>\n",
       "      <td>14-07-2021</td>\n",
       "      <td>4.5</td>\n",
       "    </tr>\n",
       "    <tr>\n",
       "      <th>...</th>\n",
       "      <td>...</td>\n",
       "      <td>...</td>\n",
       "      <td>...</td>\n",
       "      <td>...</td>\n",
       "      <td>...</td>\n",
       "      <td>...</td>\n",
       "      <td>...</td>\n",
       "      <td>...</td>\n",
       "      <td>...</td>\n",
       "    </tr>\n",
       "    <tr>\n",
       "      <th>1337</th>\n",
       "      <td>marutialto</td>\n",
       "      <td>153399</td>\n",
       "      <td>59696</td>\n",
       "      <td>2009</td>\n",
       "      <td>first_owner</td>\n",
       "      <td>petrol</td>\n",
       "      <td>manual</td>\n",
       "      <td>26-02-2021</td>\n",
       "      <td>4.3</td>\n",
       "    </tr>\n",
       "    <tr>\n",
       "      <th>1338</th>\n",
       "      <td>mahindraxuv500w11</td>\n",
       "      <td>1603499</td>\n",
       "      <td>16286</td>\n",
       "      <td>2018</td>\n",
       "      <td>first_owner</td>\n",
       "      <td>diesel</td>\n",
       "      <td>mh03</td>\n",
       "      <td>zero_dep</td>\n",
       "      <td>4.7</td>\n",
       "    </tr>\n",
       "    <tr>\n",
       "      <th>1339</th>\n",
       "      <td>marutialto800</td>\n",
       "      <td>339799</td>\n",
       "      <td>20321</td>\n",
       "      <td>2019</td>\n",
       "      <td>first_owner</td>\n",
       "      <td>petrol</td>\n",
       "      <td>manual</td>\n",
       "      <td>23-04-2022</td>\n",
       "      <td>4.6</td>\n",
       "    </tr>\n",
       "    <tr>\n",
       "      <th>1340</th>\n",
       "      <td>hyundaielitei20asta1.2</td>\n",
       "      <td>585299</td>\n",
       "      <td>18711</td>\n",
       "      <td>2017</td>\n",
       "      <td>second_owner</td>\n",
       "      <td>petrol</td>\n",
       "      <td>manual</td>\n",
       "      <td>expired</td>\n",
       "      <td>4.5</td>\n",
       "    </tr>\n",
       "    <tr>\n",
       "      <th>1341</th>\n",
       "      <td>maruticelerio</td>\n",
       "      <td>269399</td>\n",
       "      <td>25807</td>\n",
       "      <td>2014</td>\n",
       "      <td>first_owner</td>\n",
       "      <td>petrol</td>\n",
       "      <td>manual</td>\n",
       "      <td>03-11-2021</td>\n",
       "      <td>4.0</td>\n",
       "    </tr>\n",
       "  </tbody>\n",
       "</table>\n",
       "<p>1342 rows × 9 columns</p>\n",
       "</div>"
      ],
      "text/plain": [
       "                       model  selling_price  kilometers_driven  year  \\\n",
       "0         toyotacorollaaltis         671199              52544  2014   \n",
       "1        hyundaii20sportz1.2         384799              61842  2013   \n",
       "2                marutiswift         434299              14864  2015   \n",
       "3              marutialto800         261499              57525  2013   \n",
       "4      marutivitarabrezzavdi         575799              62646  2016   \n",
       "...                      ...            ...                ...   ...   \n",
       "1337              marutialto         153399              59696  2009   \n",
       "1338       mahindraxuv500w11        1603499              16286  2018   \n",
       "1339           marutialto800         339799              20321  2019   \n",
       "1340  hyundaielitei20asta1.2         585299              18711  2017   \n",
       "1341           maruticelerio         269399              25807  2014   \n",
       "\n",
       "             owner fuel_type transmission   insurance  car_condition  \n",
       "0     second_owner    petrol       manual  07-08-2021            4.3  \n",
       "1      first_owner    petrol       manual  09-08-2021            4.3  \n",
       "2      first_owner    petrol       manual  09-05-2021            4.4  \n",
       "3      first_owner    petrol       manual  28-03-2021            4.3  \n",
       "4      first_owner    diesel       manual  14-07-2021            4.5  \n",
       "...            ...       ...          ...         ...            ...  \n",
       "1337   first_owner    petrol       manual  26-02-2021            4.3  \n",
       "1338   first_owner    diesel         mh03    zero_dep            4.7  \n",
       "1339   first_owner    petrol       manual  23-04-2022            4.6  \n",
       "1340  second_owner    petrol       manual     expired            4.5  \n",
       "1341   first_owner    petrol       manual  03-11-2021            4.0  \n",
       "\n",
       "[1342 rows x 9 columns]"
      ]
     },
     "execution_count": 94,
     "metadata": {},
     "output_type": "execute_result"
    }
   ],
   "source": [
    "df_train.reset_index(drop=True)"
   ]
  },
  {
   "cell_type": "code",
   "execution_count": 95,
   "metadata": {},
   "outputs": [],
   "source": [
    "df_train = df_train.reset_index(drop=True)\n",
    "df_val = df_val.reset_index(drop=True)\n",
    "df_test = df_test.reset_index(drop=True)\n",
    "df_train2=df_train.reset_index(drop=True)"
   ]
  },
  {
   "cell_type": "code",
   "execution_count": 96,
   "metadata": {},
   "outputs": [
    {
     "data": {
      "text/html": [
       "<div>\n",
       "<style scoped>\n",
       "    .dataframe tbody tr th:only-of-type {\n",
       "        vertical-align: middle;\n",
       "    }\n",
       "\n",
       "    .dataframe tbody tr th {\n",
       "        vertical-align: top;\n",
       "    }\n",
       "\n",
       "    .dataframe thead th {\n",
       "        text-align: right;\n",
       "    }\n",
       "</style>\n",
       "<table border=\"1\" class=\"dataframe\">\n",
       "  <thead>\n",
       "    <tr style=\"text-align: right;\">\n",
       "      <th></th>\n",
       "      <th>model</th>\n",
       "      <th>selling_price</th>\n",
       "      <th>kilometers_driven</th>\n",
       "      <th>year</th>\n",
       "      <th>owner</th>\n",
       "      <th>fuel_type</th>\n",
       "      <th>transmission</th>\n",
       "      <th>insurance</th>\n",
       "      <th>car_condition</th>\n",
       "    </tr>\n",
       "  </thead>\n",
       "  <tbody>\n",
       "    <tr>\n",
       "      <th>0</th>\n",
       "      <td>toyotacorollaaltis</td>\n",
       "      <td>671199</td>\n",
       "      <td>52544</td>\n",
       "      <td>2014</td>\n",
       "      <td>second_owner</td>\n",
       "      <td>petrol</td>\n",
       "      <td>manual</td>\n",
       "      <td>07-08-2021</td>\n",
       "      <td>4.3</td>\n",
       "    </tr>\n",
       "    <tr>\n",
       "      <th>1</th>\n",
       "      <td>hyundaii20sportz1.2</td>\n",
       "      <td>384799</td>\n",
       "      <td>61842</td>\n",
       "      <td>2013</td>\n",
       "      <td>first_owner</td>\n",
       "      <td>petrol</td>\n",
       "      <td>manual</td>\n",
       "      <td>09-08-2021</td>\n",
       "      <td>4.3</td>\n",
       "    </tr>\n",
       "    <tr>\n",
       "      <th>2</th>\n",
       "      <td>marutiswift</td>\n",
       "      <td>434299</td>\n",
       "      <td>14864</td>\n",
       "      <td>2015</td>\n",
       "      <td>first_owner</td>\n",
       "      <td>petrol</td>\n",
       "      <td>manual</td>\n",
       "      <td>09-05-2021</td>\n",
       "      <td>4.4</td>\n",
       "    </tr>\n",
       "    <tr>\n",
       "      <th>3</th>\n",
       "      <td>marutialto800</td>\n",
       "      <td>261499</td>\n",
       "      <td>57525</td>\n",
       "      <td>2013</td>\n",
       "      <td>first_owner</td>\n",
       "      <td>petrol</td>\n",
       "      <td>manual</td>\n",
       "      <td>28-03-2021</td>\n",
       "      <td>4.3</td>\n",
       "    </tr>\n",
       "    <tr>\n",
       "      <th>4</th>\n",
       "      <td>marutivitarabrezzavdi</td>\n",
       "      <td>575799</td>\n",
       "      <td>62646</td>\n",
       "      <td>2016</td>\n",
       "      <td>first_owner</td>\n",
       "      <td>diesel</td>\n",
       "      <td>manual</td>\n",
       "      <td>14-07-2021</td>\n",
       "      <td>4.5</td>\n",
       "    </tr>\n",
       "    <tr>\n",
       "      <th>5</th>\n",
       "      <td>skodasuperbelegance1.8tsi</td>\n",
       "      <td>351799</td>\n",
       "      <td>76434</td>\n",
       "      <td>2012</td>\n",
       "      <td>second_owner</td>\n",
       "      <td>petrol</td>\n",
       "      <td>manual</td>\n",
       "      <td>expired</td>\n",
       "      <td>3.9</td>\n",
       "    </tr>\n",
       "    <tr>\n",
       "      <th>6</th>\n",
       "      <td>marutiertiga</td>\n",
       "      <td>408199</td>\n",
       "      <td>83719</td>\n",
       "      <td>2012</td>\n",
       "      <td>first_owner</td>\n",
       "      <td>diesel</td>\n",
       "      <td>manual</td>\n",
       "      <td>30-10-2021</td>\n",
       "      <td>4.3</td>\n",
       "    </tr>\n",
       "    <tr>\n",
       "      <th>7</th>\n",
       "      <td>marutiritz</td>\n",
       "      <td>335999</td>\n",
       "      <td>67560</td>\n",
       "      <td>2010</td>\n",
       "      <td>second_owner</td>\n",
       "      <td>petrol</td>\n",
       "      <td>manual</td>\n",
       "      <td>expired</td>\n",
       "      <td>4.1</td>\n",
       "    </tr>\n",
       "    <tr>\n",
       "      <th>8</th>\n",
       "      <td>marutizenestilo</td>\n",
       "      <td>183399</td>\n",
       "      <td>71023</td>\n",
       "      <td>2008</td>\n",
       "      <td>second_owner</td>\n",
       "      <td>petrol</td>\n",
       "      <td>manual</td>\n",
       "      <td>24-05-2021</td>\n",
       "      <td>4.1</td>\n",
       "    </tr>\n",
       "    <tr>\n",
       "      <th>9</th>\n",
       "      <td>marutiswift</td>\n",
       "      <td>338699</td>\n",
       "      <td>81690</td>\n",
       "      <td>2013</td>\n",
       "      <td>first_owner</td>\n",
       "      <td>petrol</td>\n",
       "      <td>manual</td>\n",
       "      <td>13-05-2021</td>\n",
       "      <td>4.0</td>\n",
       "    </tr>\n",
       "    <tr>\n",
       "      <th>10</th>\n",
       "      <td>marutialto800</td>\n",
       "      <td>295699</td>\n",
       "      <td>21745</td>\n",
       "      <td>2017</td>\n",
       "      <td>first_owner</td>\n",
       "      <td>petrol</td>\n",
       "      <td>manual</td>\n",
       "      <td>18-06-2021</td>\n",
       "      <td>4.7</td>\n",
       "    </tr>\n",
       "  </tbody>\n",
       "</table>\n",
       "</div>"
      ],
      "text/plain": [
       "                        model  selling_price  kilometers_driven  year  \\\n",
       "0          toyotacorollaaltis         671199              52544  2014   \n",
       "1         hyundaii20sportz1.2         384799              61842  2013   \n",
       "2                 marutiswift         434299              14864  2015   \n",
       "3               marutialto800         261499              57525  2013   \n",
       "4       marutivitarabrezzavdi         575799              62646  2016   \n",
       "5   skodasuperbelegance1.8tsi         351799              76434  2012   \n",
       "6                marutiertiga         408199              83719  2012   \n",
       "7                  marutiritz         335999              67560  2010   \n",
       "8             marutizenestilo         183399              71023  2008   \n",
       "9                 marutiswift         338699              81690  2013   \n",
       "10              marutialto800         295699              21745  2017   \n",
       "\n",
       "           owner fuel_type transmission   insurance  car_condition  \n",
       "0   second_owner    petrol       manual  07-08-2021            4.3  \n",
       "1    first_owner    petrol       manual  09-08-2021            4.3  \n",
       "2    first_owner    petrol       manual  09-05-2021            4.4  \n",
       "3    first_owner    petrol       manual  28-03-2021            4.3  \n",
       "4    first_owner    diesel       manual  14-07-2021            4.5  \n",
       "5   second_owner    petrol       manual     expired            3.9  \n",
       "6    first_owner    diesel       manual  30-10-2021            4.3  \n",
       "7   second_owner    petrol       manual     expired            4.1  \n",
       "8   second_owner    petrol       manual  24-05-2021            4.1  \n",
       "9    first_owner    petrol       manual  13-05-2021            4.0  \n",
       "10   first_owner    petrol       manual  18-06-2021            4.7  "
      ]
     },
     "execution_count": 96,
     "metadata": {},
     "output_type": "execute_result"
    }
   ],
   "source": [
    "df_train2.iloc[:11]"
   ]
  },
  {
   "cell_type": "code",
   "execution_count": 97,
   "metadata": {},
   "outputs": [
    {
     "data": {
      "text/plain": [
       "0       13.416822\n",
       "1       12.860479\n",
       "2       12.981491\n",
       "3       12.474190\n",
       "4       13.263516\n",
       "          ...    \n",
       "1337    11.940804\n",
       "1338    14.287699\n",
       "1339    12.736112\n",
       "1340    13.279880\n",
       "1341    12.503953\n",
       "Name: selling_price, Length: 1342, dtype: float64"
      ]
     },
     "execution_count": 97,
     "metadata": {},
     "output_type": "execute_result"
    }
   ],
   "source": [
    "np.log1p(df_train.selling_price)"
   ]
  },
  {
   "cell_type": "code",
   "execution_count": 98,
   "metadata": {},
   "outputs": [],
   "source": [
    "y_train = np.log1p(df_train.selling_price.values)\n",
    "y_val = np.log1p(df_val.selling_price.values)\n",
    "y_test = np.log1p(df_test.selling_price.values)\n",
    "x_train = np.log1p(df_train2.selling_price.values)"
   ]
  },
  {
   "cell_type": "code",
   "execution_count": 99,
   "metadata": {},
   "outputs": [],
   "source": [
    "del df_train['selling_price'] # чтобы случайно не использовать цену для пресказания цены\n",
    "del df_val['selling_price']\n",
    "del df_test['selling_price']"
   ]
  },
  {
   "cell_type": "code",
   "execution_count": 100,
   "metadata": {},
   "outputs": [
    {
     "data": {
      "text/html": [
       "<div>\n",
       "<style scoped>\n",
       "    .dataframe tbody tr th:only-of-type {\n",
       "        vertical-align: middle;\n",
       "    }\n",
       "\n",
       "    .dataframe tbody tr th {\n",
       "        vertical-align: top;\n",
       "    }\n",
       "\n",
       "    .dataframe thead th {\n",
       "        text-align: right;\n",
       "    }\n",
       "</style>\n",
       "<table border=\"1\" class=\"dataframe\">\n",
       "  <thead>\n",
       "    <tr style=\"text-align: right;\">\n",
       "      <th></th>\n",
       "      <th>0</th>\n",
       "    </tr>\n",
       "  </thead>\n",
       "  <tbody>\n",
       "    <tr>\n",
       "      <th>model</th>\n",
       "      <td>toyotacorollaaltis</td>\n",
       "    </tr>\n",
       "    <tr>\n",
       "      <th>kilometers_driven</th>\n",
       "      <td>52544</td>\n",
       "    </tr>\n",
       "    <tr>\n",
       "      <th>year</th>\n",
       "      <td>2014</td>\n",
       "    </tr>\n",
       "    <tr>\n",
       "      <th>owner</th>\n",
       "      <td>second_owner</td>\n",
       "    </tr>\n",
       "    <tr>\n",
       "      <th>fuel_type</th>\n",
       "      <td>petrol</td>\n",
       "    </tr>\n",
       "    <tr>\n",
       "      <th>transmission</th>\n",
       "      <td>manual</td>\n",
       "    </tr>\n",
       "    <tr>\n",
       "      <th>insurance</th>\n",
       "      <td>07-08-2021</td>\n",
       "    </tr>\n",
       "    <tr>\n",
       "      <th>car_condition</th>\n",
       "      <td>4.3</td>\n",
       "    </tr>\n",
       "  </tbody>\n",
       "</table>\n",
       "</div>"
      ],
      "text/plain": [
       "                                    0\n",
       "model              toyotacorollaaltis\n",
       "kilometers_driven               52544\n",
       "year                             2014\n",
       "owner                    second_owner\n",
       "fuel_type                      petrol\n",
       "transmission                   manual\n",
       "insurance                  07-08-2021\n",
       "car_condition                     4.3"
      ]
     },
     "execution_count": 100,
     "metadata": {},
     "output_type": "execute_result"
    }
   ],
   "source": [
    "df_train.head(1).T"
   ]
  },
  {
   "cell_type": "markdown",
   "metadata": {},
   "source": [
    "# ЛИНЕЙНАЯ РЕГРЕССИЯ"
   ]
  },
  {
   "cell_type": "code",
   "execution_count": 103,
   "metadata": {},
   "outputs": [
    {
     "data": {
      "text/plain": [
       "model                marutialto800\n",
       "kilometers_driven            21745\n",
       "year                          2017\n",
       "owner                  first_owner\n",
       "fuel_type                   petrol\n",
       "transmission                manual\n",
       "insurance               18-06-2021\n",
       "car_condition                  4.7\n",
       "Name: 10, dtype: object"
      ]
     },
     "execution_count": 103,
     "metadata": {},
     "output_type": "execute_result"
    }
   ],
   "source": [
    "df_train.iloc[10]"
   ]
  },
  {
   "cell_type": "code",
   "execution_count": 104,
   "metadata": {},
   "outputs": [
    {
     "data": {
      "text/plain": [
       "12.59710070584057"
      ]
     },
     "execution_count": 104,
     "metadata": {},
     "output_type": "execute_result"
    }
   ],
   "source": [
    "y_train[10]"
   ]
  },
  {
   "cell_type": "code",
   "execution_count": 105,
   "metadata": {},
   "outputs": [
    {
     "data": {
      "text/plain": [
       "295699.00000000023"
      ]
     },
     "execution_count": 105,
     "metadata": {},
     "output_type": "execute_result"
    }
   ],
   "source": [
    "np.expm1(y_train[10])"
   ]
  },
  {
   "cell_type": "code",
   "execution_count": 106,
   "metadata": {},
   "outputs": [],
   "source": [
    "xi = [21745, 2017, 4.7] # вектор фичей"
   ]
  },
  {
   "cell_type": "code",
   "execution_count": 107,
   "metadata": {},
   "outputs": [
    {
     "data": {
      "text/plain": [
       "12.813012686356092"
      ]
     },
     "execution_count": 107,
     "metadata": {},
     "output_type": "execute_result"
    }
   ],
   "source": [
    "y_train.mean()"
   ]
  },
  {
   "cell_type": "code",
   "execution_count": 108,
   "metadata": {},
   "outputs": [],
   "source": [
    "def g(xi):\n",
    "    return np.expm1(y_train.mean())"
   ]
  },
  {
   "cell_type": "code",
   "execution_count": 110,
   "metadata": {},
   "outputs": [
    {
     "data": {
      "text/plain": [
       "366960.6722717362"
      ]
     },
     "execution_count": 110,
     "metadata": {},
     "output_type": "execute_result"
    }
   ],
   "source": [
    "g(xi) # предсказание цены"
   ]
  },
  {
   "cell_type": "code",
   "execution_count": 111,
   "metadata": {},
   "outputs": [],
   "source": [
    "w0 = 7.17\n",
    "w = [0.01, 0.04, 0.0002]"
   ]
  },
  {
   "cell_type": "code",
   "execution_count": 112,
   "metadata": {},
   "outputs": [],
   "source": [
    "def linear_regression(xi):\n",
    "    pred = w0\n",
    "    for j in range(len(w)):\n",
    "        pred += w[j] * xi[j]\n",
    "    return pred"
   ]
  },
  {
   "cell_type": "code",
   "execution_count": 113,
   "metadata": {},
   "outputs": [
    {
     "data": {
      "text/plain": [
       "305.30094"
      ]
     },
     "execution_count": 113,
     "metadata": {},
     "output_type": "execute_result"
    }
   ],
   "source": [
    "linear_regression(xi) # получили некоторое предсказание"
   ]
  },
  {
   "cell_type": "code",
   "execution_count": 114,
   "metadata": {},
   "outputs": [
    {
     "data": {
      "text/plain": [
       "295699.00000000023"
      ]
     },
     "execution_count": 114,
     "metadata": {},
     "output_type": "execute_result"
    }
   ],
   "source": [
    "np.expm1(y_train[10])"
   ]
  },
  {
   "cell_type": "code",
   "execution_count": 115,
   "metadata": {},
   "outputs": [
    {
     "data": {
      "text/plain": [
       "3.8950547074636845e+132"
      ]
     },
     "execution_count": 115,
     "metadata": {},
     "output_type": "execute_result"
    }
   ],
   "source": [
    "np.expm1(linear_regression(xi))"
   ]
  },
  {
   "cell_type": "code",
   "execution_count": 117,
   "metadata": {},
   "outputs": [
    {
     "data": {
      "text/plain": [
       "5.0"
      ]
     },
     "execution_count": 117,
     "metadata": {},
     "output_type": "execute_result"
    }
   ],
   "source": [
    "df.car_condition.max()"
   ]
  },
  {
   "cell_type": "code",
   "execution_count": null,
   "metadata": {},
   "outputs": [],
   "source": []
  },
  {
   "cell_type": "markdown",
   "metadata": {},
   "source": [
    "# ВЕКТОРНАЯ ФОРМА "
   ]
  },
  {
   "cell_type": "code",
   "execution_count": 118,
   "metadata": {},
   "outputs": [],
   "source": [
    "def dot(xi, w):\n",
    "    res = 0.0\n",
    "    for j in range(len(xi)):\n",
    "        res += xi[j]*w[j]\n",
    "    return res"
   ]
  },
  {
   "cell_type": "code",
   "execution_count": 119,
   "metadata": {},
   "outputs": [],
   "source": [
    "def linear_regression(xi):\n",
    "    return w0 + dot(xi, w)"
   ]
  },
  {
   "cell_type": "code",
   "execution_count": 120,
   "metadata": {},
   "outputs": [
    {
     "data": {
      "text/plain": [
       "305.30094"
      ]
     },
     "execution_count": 120,
     "metadata": {},
     "output_type": "execute_result"
    }
   ],
   "source": [
    "linear_regression(xi)"
   ]
  },
  {
   "cell_type": "code",
   "execution_count": 121,
   "metadata": {},
   "outputs": [],
   "source": [
    "w_new = [w0] + w"
   ]
  },
  {
   "cell_type": "code",
   "execution_count": 122,
   "metadata": {},
   "outputs": [
    {
     "data": {
      "text/plain": [
       "[7.17, 0.01, 0.04, 0.0002]"
      ]
     },
     "execution_count": 122,
     "metadata": {},
     "output_type": "execute_result"
    }
   ],
   "source": [
    "w_new"
   ]
  },
  {
   "cell_type": "code",
   "execution_count": 123,
   "metadata": {},
   "outputs": [],
   "source": [
    "def linear_regression(xi):\n",
    "    xi = [1] + xi\n",
    "    return dot(xi, w_new)"
   ]
  },
  {
   "cell_type": "code",
   "execution_count": 124,
   "metadata": {},
   "outputs": [
    {
     "data": {
      "text/plain": [
       "305.30094"
      ]
     },
     "execution_count": 124,
     "metadata": {},
     "output_type": "execute_result"
    }
   ],
   "source": [
    "linear_regression(xi)"
   ]
  },
  {
   "cell_type": "code",
   "execution_count": 125,
   "metadata": {},
   "outputs": [],
   "source": [
    "x1 = [1, 52544, 2014, 4.3]\n",
    "x2 = [1, 61842, 2013, 4.3]\n",
    "x3 = [1, 21745, 2017, 4.7]\n",
    "\n",
    "X = [x1, x2, x3]\n",
    "X = np.array(X)"
   ]
  },
  {
   "cell_type": "code",
   "execution_count": 126,
   "metadata": {},
   "outputs": [
    {
     "data": {
      "text/plain": [
       "array([[1.0000e+00, 5.2544e+04, 2.0140e+03, 4.3000e+00],\n",
       "       [1.0000e+00, 6.1842e+04, 2.0130e+03, 4.3000e+00],\n",
       "       [1.0000e+00, 2.1745e+04, 2.0170e+03, 4.7000e+00]])"
      ]
     },
     "execution_count": 126,
     "metadata": {},
     "output_type": "execute_result"
    }
   ],
   "source": [
    "X"
   ]
  },
  {
   "cell_type": "code",
   "execution_count": 127,
   "metadata": {},
   "outputs": [
    {
     "data": {
      "text/plain": [
       "[7.17, 0.01, 0.04, 0.0002]"
      ]
     },
     "execution_count": 127,
     "metadata": {},
     "output_type": "execute_result"
    }
   ],
   "source": [
    "w_new"
   ]
  },
  {
   "cell_type": "code",
   "execution_count": 130,
   "metadata": {},
   "outputs": [
    {
     "data": {
      "text/plain": [
       "array([613.17086, 706.11086, 305.30094])"
      ]
     },
     "execution_count": 130,
     "metadata": {},
     "output_type": "execute_result"
    }
   ],
   "source": [
    "X.dot(w_new) # получаем предсказаия цены"
   ]
  },
  {
   "cell_type": "code",
   "execution_count": 131,
   "metadata": {},
   "outputs": [],
   "source": [
    "def linear_regression(X):\n",
    "    return X.dot(w_new)"
   ]
  },
  {
   "cell_type": "code",
   "execution_count": 132,
   "metadata": {},
   "outputs": [
    {
     "data": {
      "text/plain": [
       "array([613.17086, 706.11086, 305.30094])"
      ]
     },
     "execution_count": 132,
     "metadata": {},
     "output_type": "execute_result"
    }
   ],
   "source": [
    "linear_regression(X)"
   ]
  },
  {
   "cell_type": "markdown",
   "metadata": {},
   "source": [
    "# Логиcтическая регрессия\n"
   ]
  },
  {
   "cell_type": "code",
   "execution_count": 133,
   "metadata": {},
   "outputs": [
    {
     "data": {
      "text/plain": [
       "model                marutialto800\n",
       "selling_price               295699\n",
       "kilometers_driven            21745\n",
       "year                          2017\n",
       "owner                  first_owner\n",
       "fuel_type                   petrol\n",
       "transmission                manual\n",
       "insurance               18-06-2021\n",
       "car_condition                  4.7\n",
       "Name: 10, dtype: object"
      ]
     },
     "execution_count": 133,
     "metadata": {},
     "output_type": "execute_result"
    }
   ],
   "source": [
    "df_train2.iloc[10]"
   ]
  },
  {
   "cell_type": "code",
   "execution_count": 134,
   "metadata": {},
   "outputs": [],
   "source": [
    "X=df_train2[['kilometers_driven','year','car_condition']]"
   ]
  },
  {
   "cell_type": "code",
   "execution_count": 135,
   "metadata": {},
   "outputs": [],
   "source": [
    "Y=df_train2[['selling_price']]"
   ]
  },
  {
   "cell_type": "code",
   "execution_count": 136,
   "metadata": {},
   "outputs": [],
   "source": [
    "from sklearn.linear_model import LogisticRegression"
   ]
  },
  {
   "cell_type": "code",
   "execution_count": 137,
   "metadata": {},
   "outputs": [],
   "source": [
    "from sklearn.model_selection import train_test_split"
   ]
  },
  {
   "cell_type": "code",
   "execution_count": 138,
   "metadata": {},
   "outputs": [],
   "source": [
    "X_train, X_test, Y_train, Y_test = train_test_split(X, Y)"
   ]
  },
  {
   "cell_type": "code",
   "execution_count": 140,
   "metadata": {},
   "outputs": [
    {
     "data": {
      "text/plain": [
       "selling_price    528099\n",
       "Name: 778, dtype: int64"
      ]
     },
     "execution_count": 140,
     "metadata": {},
     "output_type": "execute_result"
    }
   ],
   "source": [
    "Y_train.iloc[10]"
   ]
  },
  {
   "cell_type": "code",
   "execution_count": 141,
   "metadata": {},
   "outputs": [],
   "source": [
    "classifier = LogisticRegression(solver='liblinear', C=10.0, random_state=0,max_iter=1000)"
   ]
  },
  {
   "cell_type": "code",
   "execution_count": 142,
   "metadata": {},
   "outputs": [
    {
     "data": {
      "text/plain": [
       "LogisticRegression(C=10.0, max_iter=1000, random_state=0, solver='liblinear')"
      ]
     },
     "execution_count": 142,
     "metadata": {},
     "output_type": "execute_result"
    }
   ],
   "source": [
    "import numpy as np\n",
    "classifier.fit(X_train, np.ravel(Y_train))"
   ]
  },
  {
   "cell_type": "code",
   "execution_count": 143,
   "metadata": {},
   "outputs": [],
   "source": [
    "test=classifier.predict(X_test)"
   ]
  },
  {
   "cell_type": "code",
   "execution_count": 146,
   "metadata": {},
   "outputs": [
    {
     "data": {
      "text/plain": [
       "331599"
      ]
     },
     "execution_count": 146,
     "metadata": {},
     "output_type": "execute_result"
    }
   ],
   "source": [
    "test[10]"
   ]
  },
  {
   "cell_type": "code",
   "execution_count": null,
   "metadata": {},
   "outputs": [],
   "source": []
  }
 ],
 "metadata": {
  "kernelspec": {
   "display_name": "Python 3",
   "language": "python",
   "name": "python3"
  },
  "language_info": {
   "codemirror_mode": {
    "name": "ipython",
    "version": 3
   },
   "file_extension": ".py",
   "mimetype": "text/x-python",
   "name": "python",
   "nbconvert_exporter": "python",
   "pygments_lexer": "ipython3",
   "version": "3.8.8"
  }
 },
 "nbformat": 4,
 "nbformat_minor": 4
}
